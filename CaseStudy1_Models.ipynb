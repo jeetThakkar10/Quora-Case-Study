{
  "nbformat": 4,
  "nbformat_minor": 0,
  "metadata": {
    "colab": {
      "name": "CaseStudy1_Models.ipynb",
      "provenance": [],
      "collapsed_sections": [],
      "authorship_tag": "ABX9TyMt7sEfFreeMDMJ1L9Z0rr2",
      "include_colab_link": true
    },
    "kernelspec": {
      "name": "python3",
      "display_name": "Python 3"
    },
    "language_info": {
      "name": "python"
    }
  },
  "cells": [
    {
      "cell_type": "markdown",
      "metadata": {
        "id": "view-in-github",
        "colab_type": "text"
      },
      "source": [
        "<a href=\"https://colab.research.google.com/github/jeetThakkar10/Quora-Case-Study/blob/main/CaseStudy1_Models.ipynb\" target=\"_parent\"><img src=\"https://colab.research.google.com/assets/colab-badge.svg\" alt=\"Open In Colab\"/></a>"
      ]
    },
    {
      "cell_type": "code",
      "source": [
        "from google.colab import drive\n",
        "drive.mount('/content/drive')"
      ],
      "metadata": {
        "id": "xk9Fc09aQQmv",
        "colab": {
          "base_uri": "https://localhost:8080/"
        },
        "outputId": "08ff9ecb-2625-4c55-99e1-1bdbf0d11bea"
      },
      "execution_count": null,
      "outputs": [
        {
          "output_type": "stream",
          "name": "stdout",
          "text": [
            "Drive already mounted at /content/drive; to attempt to forcibly remount, call drive.mount(\"/content/drive\", force_remount=True).\n"
          ]
        }
      ]
    },
    {
      "cell_type": "code",
      "source": [
        "import pandas as pd\n",
        "import matplotlib.pyplot as plt\n",
        "import re\n",
        "import time\n",
        "import warnings\n",
        "import sqlite3\n",
        "from sqlalchemy import create_engine # database connection\n",
        "import csv\n",
        "import os\n",
        "warnings.filterwarnings(\"ignore\")\n",
        "import datetime as dt\n",
        "import numpy as np\n",
        "from nltk.corpus import stopwords\n",
        "from sklearn.decomposition import TruncatedSVD\n",
        "from sklearn.preprocessing import normalize\n",
        "from sklearn.feature_extraction.text import CountVectorizer\n",
        "from sklearn.manifold import TSNE\n",
        "import seaborn as sns\n",
        "from sklearn.neighbors import KNeighborsClassifier\n",
        "from sklearn.metrics import confusion_matrix\n",
        "from sklearn.metrics import accuracy_score, log_loss\n",
        "from sklearn.feature_extraction.text import TfidfVectorizer\n",
        "from collections import Counter\n",
        "from scipy.sparse import hstack\n",
        "from sklearn.multiclass import OneVsRestClassifier\n",
        "from sklearn.svm import SVC\n",
        "# from sklearn.cross_validation import StratifiedKFold \n",
        "from collections import Counter, defaultdict\n",
        "from sklearn.calibration import CalibratedClassifierCV\n",
        "from sklearn.naive_bayes import MultinomialNB\n",
        "from sklearn.naive_bayes import GaussianNB\n",
        "from sklearn.model_selection import train_test_split\n",
        "from sklearn.model_selection import GridSearchCV\n",
        "import math\n",
        "from sklearn.metrics import normalized_mutual_info_score\n",
        "from sklearn.ensemble import RandomForestClassifier\n",
        "from sklearn.linear_model import SGDClassifier\n",
        "\n",
        "\n",
        "\n",
        "from sklearn.model_selection import cross_val_score\n",
        "from sklearn.linear_model import SGDClassifier\n",
        "# from mlxtend.classifier import StackingClassifier\n",
        "\n",
        "from sklearn import model_selection\n",
        "from sklearn.linear_model import LogisticRegression\n",
        "from sklearn.metrics import precision_recall_curve, auc, roc_curve"
      ],
      "metadata": {
        "id": "ktUXvAKSQeEv"
      },
      "execution_count": null,
      "outputs": []
    },
    {
      "cell_type": "code",
      "source": [
        "df= pd.read_csv(r\"/content/drive/MyDrive/ML Datasets/CaseStudy1 - Quora/final_features.csv\")"
      ],
      "metadata": {
        "id": "nJkZfDqGQuNl"
      },
      "execution_count": null,
      "outputs": []
    },
    {
      "cell_type": "code",
      "source": [
        "df = df.sample(frac=0.6)\n",
        "print(df.shape)\n"
      ],
      "metadata": {
        "colab": {
          "base_uri": "https://localhost:8080/"
        },
        "id": "txb5aRfP4bRe",
        "outputId": "4ec965e1-d771-4796-dcdd-3d32f8ac39c2"
      },
      "execution_count": null,
      "outputs": [
        {
          "output_type": "stream",
          "name": "stdout",
          "text": [
            "(242574, 797)\n"
          ]
        }
      ]
    },
    {
      "cell_type": "code",
      "source": [
        "type(df)"
      ],
      "metadata": {
        "colab": {
          "base_uri": "https://localhost:8080/"
        },
        "id": "WzS2YT4gtH3y",
        "outputId": "d4ffe18c-4076-40cf-80a4-d3df27468bca"
      },
      "execution_count": null,
      "outputs": [
        {
          "output_type": "execute_result",
          "data": {
            "text/plain": [
              "pandas.core.frame.DataFrame"
            ]
          },
          "metadata": {},
          "execution_count": 5
        }
      ]
    },
    {
      "cell_type": "code",
      "source": [
        "y_true = df['is_duplicate']\n",
        "df.drop(['Unnamed: 0', 'id','is_duplicate'], axis=1, inplace=True)\n",
        "df.head()\n"
      ],
      "metadata": {
        "id": "y2qdIwFMZZYS",
        "colab": {
          "base_uri": "https://localhost:8080/",
          "height": 300
        },
        "outputId": "b89d320b-515e-42f5-e831-fb59be9e2898"
      },
      "execution_count": null,
      "outputs": [
        {
          "output_type": "execute_result",
          "data": {
            "text/plain": [
              "         cwc_min   cwc_max   csc_min   csc_max   ctc_min   ctc_max  \\\n",
              "127095  0.428565  0.299997  0.333328  0.249997  0.312498  0.217390   \n",
              "62888   0.000000  0.000000  0.000000  0.000000  0.000000  0.000000   \n",
              "14270   0.857131  0.857131  0.999980  0.999980  0.846147  0.846147   \n",
              "71790   0.571420  0.499994  0.571420  0.499994  0.571424  0.444442   \n",
              "208115  0.599988  0.599988  0.000000  0.000000  0.374995  0.333330   \n",
              "\n",
              "        last_word_eq  first_word_eq  abs_len_diff  mean_len  ...      374_y  \\\n",
              "127095           0.0            0.0           7.0      19.5  ... -19.384046   \n",
              "62888            0.0            0.0           3.0       9.5  ...  13.750981   \n",
              "14270            1.0            1.0           0.0      13.0  ...  -7.244227   \n",
              "71790            0.0            1.0           4.0      16.0  ...   8.300198   \n",
              "208115           0.0            0.0           1.0       8.5  ...  -9.694700   \n",
              "\n",
              "            375_y      376_y      377_y      378_y      379_y      380_y  \\\n",
              "127095  -1.503264  11.551883  -8.237301  20.849400   0.939299 -12.426566   \n",
              "62888    5.458715  21.816339  -9.092954   8.724053  -3.072579  -8.111194   \n",
              "14270   12.378529  24.331929  -9.653174  -7.892694  -1.193187 -17.159937   \n",
              "71790   28.632936   1.113562 -10.167538  15.376122   2.036291 -22.399951   \n",
              "208115   4.889549  -1.875900  -0.094378  -7.689807 -10.106847  -1.414914   \n",
              "\n",
              "            381_y      382_y      383_y  \n",
              "127095  10.345075  25.599876   2.946757  \n",
              "62888   -1.906479   8.042303   1.050176  \n",
              "14270    6.036631   8.819773   2.030314  \n",
              "71790   28.200520   6.762986  -5.654028  \n",
              "208115  29.885954  -9.155207 -12.658884  \n",
              "\n",
              "[5 rows x 794 columns]"
            ],
            "text/html": [
              "\n",
              "  <div id=\"df-6c126942-551c-475c-8ff7-e8958df4a1d7\">\n",
              "    <div class=\"colab-df-container\">\n",
              "      <div>\n",
              "<style scoped>\n",
              "    .dataframe tbody tr th:only-of-type {\n",
              "        vertical-align: middle;\n",
              "    }\n",
              "\n",
              "    .dataframe tbody tr th {\n",
              "        vertical-align: top;\n",
              "    }\n",
              "\n",
              "    .dataframe thead th {\n",
              "        text-align: right;\n",
              "    }\n",
              "</style>\n",
              "<table border=\"1\" class=\"dataframe\">\n",
              "  <thead>\n",
              "    <tr style=\"text-align: right;\">\n",
              "      <th></th>\n",
              "      <th>cwc_min</th>\n",
              "      <th>cwc_max</th>\n",
              "      <th>csc_min</th>\n",
              "      <th>csc_max</th>\n",
              "      <th>ctc_min</th>\n",
              "      <th>ctc_max</th>\n",
              "      <th>last_word_eq</th>\n",
              "      <th>first_word_eq</th>\n",
              "      <th>abs_len_diff</th>\n",
              "      <th>mean_len</th>\n",
              "      <th>...</th>\n",
              "      <th>374_y</th>\n",
              "      <th>375_y</th>\n",
              "      <th>376_y</th>\n",
              "      <th>377_y</th>\n",
              "      <th>378_y</th>\n",
              "      <th>379_y</th>\n",
              "      <th>380_y</th>\n",
              "      <th>381_y</th>\n",
              "      <th>382_y</th>\n",
              "      <th>383_y</th>\n",
              "    </tr>\n",
              "  </thead>\n",
              "  <tbody>\n",
              "    <tr>\n",
              "      <th>127095</th>\n",
              "      <td>0.428565</td>\n",
              "      <td>0.299997</td>\n",
              "      <td>0.333328</td>\n",
              "      <td>0.249997</td>\n",
              "      <td>0.312498</td>\n",
              "      <td>0.217390</td>\n",
              "      <td>0.0</td>\n",
              "      <td>0.0</td>\n",
              "      <td>7.0</td>\n",
              "      <td>19.5</td>\n",
              "      <td>...</td>\n",
              "      <td>-19.384046</td>\n",
              "      <td>-1.503264</td>\n",
              "      <td>11.551883</td>\n",
              "      <td>-8.237301</td>\n",
              "      <td>20.849400</td>\n",
              "      <td>0.939299</td>\n",
              "      <td>-12.426566</td>\n",
              "      <td>10.345075</td>\n",
              "      <td>25.599876</td>\n",
              "      <td>2.946757</td>\n",
              "    </tr>\n",
              "    <tr>\n",
              "      <th>62888</th>\n",
              "      <td>0.000000</td>\n",
              "      <td>0.000000</td>\n",
              "      <td>0.000000</td>\n",
              "      <td>0.000000</td>\n",
              "      <td>0.000000</td>\n",
              "      <td>0.000000</td>\n",
              "      <td>0.0</td>\n",
              "      <td>0.0</td>\n",
              "      <td>3.0</td>\n",
              "      <td>9.5</td>\n",
              "      <td>...</td>\n",
              "      <td>13.750981</td>\n",
              "      <td>5.458715</td>\n",
              "      <td>21.816339</td>\n",
              "      <td>-9.092954</td>\n",
              "      <td>8.724053</td>\n",
              "      <td>-3.072579</td>\n",
              "      <td>-8.111194</td>\n",
              "      <td>-1.906479</td>\n",
              "      <td>8.042303</td>\n",
              "      <td>1.050176</td>\n",
              "    </tr>\n",
              "    <tr>\n",
              "      <th>14270</th>\n",
              "      <td>0.857131</td>\n",
              "      <td>0.857131</td>\n",
              "      <td>0.999980</td>\n",
              "      <td>0.999980</td>\n",
              "      <td>0.846147</td>\n",
              "      <td>0.846147</td>\n",
              "      <td>1.0</td>\n",
              "      <td>1.0</td>\n",
              "      <td>0.0</td>\n",
              "      <td>13.0</td>\n",
              "      <td>...</td>\n",
              "      <td>-7.244227</td>\n",
              "      <td>12.378529</td>\n",
              "      <td>24.331929</td>\n",
              "      <td>-9.653174</td>\n",
              "      <td>-7.892694</td>\n",
              "      <td>-1.193187</td>\n",
              "      <td>-17.159937</td>\n",
              "      <td>6.036631</td>\n",
              "      <td>8.819773</td>\n",
              "      <td>2.030314</td>\n",
              "    </tr>\n",
              "    <tr>\n",
              "      <th>71790</th>\n",
              "      <td>0.571420</td>\n",
              "      <td>0.499994</td>\n",
              "      <td>0.571420</td>\n",
              "      <td>0.499994</td>\n",
              "      <td>0.571424</td>\n",
              "      <td>0.444442</td>\n",
              "      <td>0.0</td>\n",
              "      <td>1.0</td>\n",
              "      <td>4.0</td>\n",
              "      <td>16.0</td>\n",
              "      <td>...</td>\n",
              "      <td>8.300198</td>\n",
              "      <td>28.632936</td>\n",
              "      <td>1.113562</td>\n",
              "      <td>-10.167538</td>\n",
              "      <td>15.376122</td>\n",
              "      <td>2.036291</td>\n",
              "      <td>-22.399951</td>\n",
              "      <td>28.200520</td>\n",
              "      <td>6.762986</td>\n",
              "      <td>-5.654028</td>\n",
              "    </tr>\n",
              "    <tr>\n",
              "      <th>208115</th>\n",
              "      <td>0.599988</td>\n",
              "      <td>0.599988</td>\n",
              "      <td>0.000000</td>\n",
              "      <td>0.000000</td>\n",
              "      <td>0.374995</td>\n",
              "      <td>0.333330</td>\n",
              "      <td>0.0</td>\n",
              "      <td>0.0</td>\n",
              "      <td>1.0</td>\n",
              "      <td>8.5</td>\n",
              "      <td>...</td>\n",
              "      <td>-9.694700</td>\n",
              "      <td>4.889549</td>\n",
              "      <td>-1.875900</td>\n",
              "      <td>-0.094378</td>\n",
              "      <td>-7.689807</td>\n",
              "      <td>-10.106847</td>\n",
              "      <td>-1.414914</td>\n",
              "      <td>29.885954</td>\n",
              "      <td>-9.155207</td>\n",
              "      <td>-12.658884</td>\n",
              "    </tr>\n",
              "  </tbody>\n",
              "</table>\n",
              "<p>5 rows × 794 columns</p>\n",
              "</div>\n",
              "      <button class=\"colab-df-convert\" onclick=\"convertToInteractive('df-6c126942-551c-475c-8ff7-e8958df4a1d7')\"\n",
              "              title=\"Convert this dataframe to an interactive table.\"\n",
              "              style=\"display:none;\">\n",
              "        \n",
              "  <svg xmlns=\"http://www.w3.org/2000/svg\" height=\"24px\"viewBox=\"0 0 24 24\"\n",
              "       width=\"24px\">\n",
              "    <path d=\"M0 0h24v24H0V0z\" fill=\"none\"/>\n",
              "    <path d=\"M18.56 5.44l.94 2.06.94-2.06 2.06-.94-2.06-.94-.94-2.06-.94 2.06-2.06.94zm-11 1L8.5 8.5l.94-2.06 2.06-.94-2.06-.94L8.5 2.5l-.94 2.06-2.06.94zm10 10l.94 2.06.94-2.06 2.06-.94-2.06-.94-.94-2.06-.94 2.06-2.06.94z\"/><path d=\"M17.41 7.96l-1.37-1.37c-.4-.4-.92-.59-1.43-.59-.52 0-1.04.2-1.43.59L10.3 9.45l-7.72 7.72c-.78.78-.78 2.05 0 2.83L4 21.41c.39.39.9.59 1.41.59.51 0 1.02-.2 1.41-.59l7.78-7.78 2.81-2.81c.8-.78.8-2.07 0-2.86zM5.41 20L4 18.59l7.72-7.72 1.47 1.35L5.41 20z\"/>\n",
              "  </svg>\n",
              "      </button>\n",
              "      \n",
              "  <style>\n",
              "    .colab-df-container {\n",
              "      display:flex;\n",
              "      flex-wrap:wrap;\n",
              "      gap: 12px;\n",
              "    }\n",
              "\n",
              "    .colab-df-convert {\n",
              "      background-color: #E8F0FE;\n",
              "      border: none;\n",
              "      border-radius: 50%;\n",
              "      cursor: pointer;\n",
              "      display: none;\n",
              "      fill: #1967D2;\n",
              "      height: 32px;\n",
              "      padding: 0 0 0 0;\n",
              "      width: 32px;\n",
              "    }\n",
              "\n",
              "    .colab-df-convert:hover {\n",
              "      background-color: #E2EBFA;\n",
              "      box-shadow: 0px 1px 2px rgba(60, 64, 67, 0.3), 0px 1px 3px 1px rgba(60, 64, 67, 0.15);\n",
              "      fill: #174EA6;\n",
              "    }\n",
              "\n",
              "    [theme=dark] .colab-df-convert {\n",
              "      background-color: #3B4455;\n",
              "      fill: #D2E3FC;\n",
              "    }\n",
              "\n",
              "    [theme=dark] .colab-df-convert:hover {\n",
              "      background-color: #434B5C;\n",
              "      box-shadow: 0px 1px 3px 1px rgba(0, 0, 0, 0.15);\n",
              "      filter: drop-shadow(0px 1px 2px rgba(0, 0, 0, 0.3));\n",
              "      fill: #FFFFFF;\n",
              "    }\n",
              "  </style>\n",
              "\n",
              "      <script>\n",
              "        const buttonEl =\n",
              "          document.querySelector('#df-6c126942-551c-475c-8ff7-e8958df4a1d7 button.colab-df-convert');\n",
              "        buttonEl.style.display =\n",
              "          google.colab.kernel.accessAllowed ? 'block' : 'none';\n",
              "\n",
              "        async function convertToInteractive(key) {\n",
              "          const element = document.querySelector('#df-6c126942-551c-475c-8ff7-e8958df4a1d7');\n",
              "          const dataTable =\n",
              "            await google.colab.kernel.invokeFunction('convertToInteractive',\n",
              "                                                     [key], {});\n",
              "          if (!dataTable) return;\n",
              "\n",
              "          const docLinkHtml = 'Like what you see? Visit the ' +\n",
              "            '<a target=\"_blank\" href=https://colab.research.google.com/notebooks/data_table.ipynb>data table notebook</a>'\n",
              "            + ' to learn more about interactive tables.';\n",
              "          element.innerHTML = '';\n",
              "          dataTable['output_type'] = 'display_data';\n",
              "          await google.colab.output.renderOutput(dataTable, element);\n",
              "          const docLink = document.createElement('div');\n",
              "          docLink.innerHTML = docLinkHtml;\n",
              "          element.appendChild(docLink);\n",
              "        }\n",
              "      </script>\n",
              "    </div>\n",
              "  </div>\n",
              "  "
            ]
          },
          "metadata": {},
          "execution_count": 6
        }
      ]
    },
    {
      "cell_type": "code",
      "source": [
        "type(df.ctc_max[0])"
      ],
      "metadata": {
        "id": "lRygRSOj1xvG",
        "colab": {
          "base_uri": "https://localhost:8080/"
        },
        "outputId": "e515109c-5948-44a4-d700-d8a767e5e0bc"
      },
      "execution_count": null,
      "outputs": [
        {
          "output_type": "execute_result",
          "data": {
            "text/plain": [
              "numpy.float64"
            ]
          },
          "metadata": {},
          "execution_count": 7
        }
      ]
    },
    {
      "cell_type": "code",
      "source": [
        "# Train Test Split\n",
        "X_train, X_test, Y_train, Y_test = train_test_split(df, y_true, test_size=0.3, stratify=y_true)\n",
        "# Stratify = y_true means data is split, considering y_true as the class label. "
      ],
      "metadata": {
        "id": "OIzxywXWgh9u"
      },
      "execution_count": null,
      "outputs": []
    },
    {
      "cell_type": "code",
      "source": [
        "print(\"Number of points in train data = {}\".format(X_train.shape))\n",
        "print(\"Number of points in test data = {}\".format(X_test.shape))"
      ],
      "metadata": {
        "colab": {
          "base_uri": "https://localhost:8080/"
        },
        "id": "ZXAOjUoz5pAN",
        "outputId": "809dde3b-1eda-4df5-a4b4-c2af78ff7b4f"
      },
      "execution_count": null,
      "outputs": [
        {
          "output_type": "stream",
          "name": "stdout",
          "text": [
            "Number of points in train data = (169801, 794)\n",
            "Number of points in test data = (72773, 794)\n"
          ]
        }
      ]
    },
    {
      "cell_type": "code",
      "source": [
        "print(\"-\"*10, \"Distribution of output variable in train data \", \"-\"*10)\n",
        "train_dist = Counter(Y_train)\n",
        "train_len = len(Y_train)\n",
        "test_dist = Counter(Y_test)\n",
        "test_len = len(Y_test)\n",
        "print(\"Class 0 :\", int(train_dist[0])/train_len, \"Class 1 :\", int(train_dist[1])/train_len)\n",
        "print(\"-\"*10, \"Distribution of output variable in test data \", \"-\"*10)\n",
        "print(\"Class 0 :\", int(test_dist[0])/test_len, \"Class 1 : \", int(test_dist[1])/test_len)"
      ],
      "metadata": {
        "colab": {
          "base_uri": "https://localhost:8080/"
        },
        "id": "dh-8mVIw6JL2",
        "outputId": "becccfe2-ad72-4a23-a64d-57725bffb22a"
      },
      "execution_count": null,
      "outputs": [
        {
          "output_type": "stream",
          "name": "stdout",
          "text": [
            "---------- Distribution of output variable in train data  ----------\n",
            "Class 0 : 0.6305616574696262 Class 1 : 0.3694383425303738\n",
            "---------- Distribution of output variable in test data  ----------\n",
            "Class 0 : 0.630563533178514 Class 1 :  0.369436466821486\n"
          ]
        }
      ]
    },
    {
      "cell_type": "code",
      "source": [
        "# This function plots the confusion matrices given y_i, y_i_hat.\n",
        "def plot_confusion_matrix(test_y, predict_y):\n",
        "    C = confusion_matrix(test_y, predict_y)\n",
        "    # C = 9,9 matrix, each cell (i,j) represents number of points of class i are predicted class j\n",
        "    \n",
        "    A =(((C.T)/(C.sum(axis=1))).T)\n",
        "    #divid each element of the confusion matrix with the sum of elements in that column\n",
        "    \n",
        "    # C = [[1, 2],\n",
        "    #     [3, 4]]\n",
        "    # C.T = [[1, 3],\n",
        "    #        [2, 4]]\n",
        "    # C.sum(axis = 1)  axis=0 corresonds to columns and axis=1 corresponds to rows in two diamensional array\n",
        "    # C.sum(axix =1) = [[3, 7]]\n",
        "    # ((C.T)/(C.sum(axis=1))) = [[1/3, 3/7]\n",
        "    #                           [2/3, 4/7]]\n",
        "\n",
        "    # ((C.T)/(C.sum(axis=1))).T = [[1/3, 2/3]\n",
        "    #                           [3/7, 4/7]]\n",
        "    # sum of row elements = 1\n",
        "    \n",
        "    B =(C/C.sum(axis=0))\n",
        "    #divid each element of the confusion matrix with the sum of elements in that row\n",
        "    # C = [[1, 2],\n",
        "    #     [3, 4]]\n",
        "    # C.sum(axis = 0)  axis=0 corresonds to columns and axis=1 corresponds to rows in two diamensional array\n",
        "    # C.sum(axix =0) = [[4, 6]]\n",
        "    # (C/C.sum(axis=0)) = [[1/4, 2/6],\n",
        "    #                      [3/4, 4/6]] \n",
        "    plt.figure(figsize=(20,4))\n",
        "    \n",
        "    labels = [1,2]\n",
        "    cmap=sns.light_palette(\"blue\")\n",
        "    plt.subplot(1, 3, 1)\n",
        "    sns.heatmap(C, annot=True, cmap=cmap, fmt=\".3f\", xticklabels=labels, yticklabels=labels)\n",
        "    plt.xlabel('Predicted Class')\n",
        "    plt.ylabel('Original Class')\n",
        "    plt.title(\"Confusion matrix\")\n",
        "    \n",
        "    plt.subplot(1, 3, 2)\n",
        "    sns.heatmap(B, annot=True, cmap=cmap, fmt=\".3f\", xticklabels=labels, yticklabels=labels)\n",
        "    plt.xlabel('Predicted Class')\n",
        "    plt.ylabel('Original Class')\n",
        "    plt.title(\"Precision matrix\")\n",
        "    \n",
        "    plt.subplot(1, 3, 3)\n",
        "    sns.heatmap(A, annot=True, cmap=cmap, fmt=\".3f\", xticklabels=labels, yticklabels=labels)\n",
        "    plt.xlabel('Predicted Class')\n",
        "    plt.ylabel('Original Class')\n",
        "    plt.title(\"Recall matrix\")\n",
        "    \n",
        "    plt.show()"
      ],
      "metadata": {
        "id": "VUh770DBSy-Q"
      },
      "execution_count": null,
      "outputs": []
    },
    {
      "cell_type": "code",
      "source": [
        "import random\n",
        "predicted_y = np.zeros((test_len,2))    # \n",
        "for i in range(test_len):\n",
        "    rand_probs = np.random.rand(1,2)    # Generate a 1X2 matrix with random numbers\n",
        "    predicted_y[i] = ((rand_probs/sum(sum(rand_probs)))[0])    # Findinf the probability\n",
        "print(\"Log loss on Test Data using Random Model\",log_loss(Y_test, predicted_y, eps=1e-15))    # Computing logloss\n",
        "\n",
        "\n",
        "predicted_y =np.argmax(predicted_y, axis=1)\n",
        "plot_confusion_matrix(Y_test, predicted_y)"
      ],
      "metadata": {
        "colab": {
          "base_uri": "https://localhost:8080/",
          "height": 312
        },
        "id": "cR_jMKIWGUFb",
        "outputId": "c427bd6b-3713-4b60-c96f-502dea0f37fc"
      },
      "execution_count": null,
      "outputs": [
        {
          "output_type": "stream",
          "name": "stdout",
          "text": [
            "Log loss on Test Data using Random Model 0.8868478949904309\n"
          ]
        },
        {
          "output_type": "display_data",
          "data": {
            "text/plain": [
              "<Figure size 1440x288 with 6 Axes>"
            ],
            "image/png": "[encoded data removed]"
          },
          "metadata": {
            "needs_background": "light"
          }
        }
      ]
    },
    {
      "cell_type": "code",
      "source": [
        "alpha = [10**x for x in range(-5,2)]\n",
        "\n",
        "log_error_array = []\n",
        "for i in alpha:\n",
        "  clf = SGDClassifier(alpha=i, penalty='l2', loss='log', random_state=42)\n",
        "  clf.fit(X_train, Y_train)\n",
        "  sig_clf = CalibratedClassifierCV(clf, method=\"sigmoid\")\n",
        "  sig_clf.fit(X_train, Y_train)\n",
        "  predict_y = sig_clf.predict_proba(X_test)\n",
        "  log_error_array.append(log_loss(Y_test, predict_y, labels=clf.classes_, eps=1e-15))\n",
        "  print('For values of alpha = ', i, \"The log loss is:\",log_loss(Y_test, predict_y, labels=clf.classes_, eps=1e-15))\n"
      ],
      "metadata": {
        "colab": {
          "base_uri": "https://localhost:8080/"
        },
        "id": "V2nquG62LXHb",
        "outputId": "4bb5db2a-867f-4968-8868-c768c8b7155e"
      },
      "execution_count": null,
      "outputs": [
        {
          "output_type": "stream",
          "name": "stdout",
          "text": [
            "For values of alpha =  1e-05 The log loss is: 0.4364667002783137\n",
            "For values of alpha =  0.0001 The log loss is: 0.4361352209685007\n",
            "For values of alpha =  0.001 The log loss is: 0.4412350419211535\n",
            "For values of alpha =  0.01 The log loss is: 0.4269729140775949\n",
            "For values of alpha =  0.1 The log loss is: 0.44521265078792627\n",
            "For values of alpha =  1 The log loss is: 0.4722880596614486\n",
            "For values of alpha =  10 The log loss is: 0.5150457755822752\n"
          ]
        }
      ]
    },
    {
      "cell_type": "code",
      "source": [
        "best_alpha = np.argmin(log_error_array)\n",
        "\n",
        "clf=SGDClassifier(alpha=alpha[best_alpha], penalty='l2', loss='log', random_state=42)\n",
        "clf.fit(X_train, Y_train)\n",
        "sig_clf = CalibratedClassifierCV(clf, method='sigmoid')\n",
        "sig_clf.fit(X_train, Y_train)\n",
        "\n",
        "predict_y = sig_clf.predict_proba(X_train)\n",
        "print('For values of best alpha = ', alpha[best_alpha], \"The train log loss is:\",log_loss(Y_train, predict_y, labels=clf.classes_, eps=1e-15))\n",
        "predict_y = sig_clf.predict_proba(X_test)\n",
        "print('For values of best alpha = ', alpha[best_alpha], \"The test log loss is:\",log_loss(Y_test, predict_y, labels=clf.classes_, eps=1e-15))\n",
        "predicted_y =np.argmax(predict_y,axis=1)\n",
        "print(\"Total number of data points :\", len(predicted_y))\n",
        "plot_confusion_matrix(Y_test, predicted_y)"
      ],
      "metadata": {
        "colab": {
          "base_uri": "https://localhost:8080/"
        },
        "id": "Evt3X_dQp8My",
        "outputId": "1102209f-b7cc-476d-cbfc-f90e5e2ac7de"
      },
      "execution_count": null,
      "outputs": [
        {
          "output_type": "execute_result",
          "data": {
            "text/plain": [
              "CalibratedClassifierCV(base_estimator=SGDClassifier(alpha=0.01, loss='log',\n",
              "                                                    random_state=42))"
            ]
          },
          "metadata": {},
          "execution_count": 14
        }
      ]
    }
  ]
}