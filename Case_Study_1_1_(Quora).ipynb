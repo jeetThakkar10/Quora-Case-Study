{
  "cells": [
    {
      "cell_type": "markdown",
      "metadata": {
        "id": "view-in-github",
        "colab_type": "text"
      },
      "source": [
        "<a href=\"https://colab.research.google.com/github/jeetThakkar10/Quora-Case-Study/blob/main/Case_Study_1_1_(Quora).ipynb\" target=\"_parent\"><img src=\"https://colab.research.google.com/assets/colab-badge.svg\" alt=\"Open In Colab\"/></a>"
      ]
    },
    {
      "cell_type": "markdown",
      "metadata": {
        "id": "YaYhk_Yq5q-Q"
      },
      "source": [
        "# Quora Question Pairs"
      ]
    },
    {
      "cell_type": "markdown",
      "metadata": {
        "id": "f0t8cYml6IA8"
      },
      "source": [
        "##  Description"
      ]
    },
    {
      "cell_type": "markdown",
      "metadata": {
        "id": "Y8tvvJiQ6EUH"
      },
      "source": [
        "<p>Quora is a place to gain and share knowledge—about anything. It’s a platform to ask questions and connect with people who contribute unique insights and quality answers. This empowers people to learn from each other and to better understand the world.</p>\n",
        "<p>\n",
        "Over 100 million people visit Quora every month, so it's no surprise that many people ask similarly worded questions. Multiple questions with the same intent can cause seekers to spend more time finding the best answer to their question, and make writers feel they need to answer multiple versions of the same question. Quora values canonical questions because they provide a better experience to active seekers and writers, and offer more value to both of these groups in the long term.\n",
        "</p>\n",
        "<br>\n",
        "> Credits: Kaggle "
      ]
    },
    {
      "cell_type": "markdown",
      "metadata": {
        "id": "p5qnEYcN6EaF"
      },
      "source": [
        "### Problem Statement"
      ]
    },
    {
      "cell_type": "markdown",
      "metadata": {
        "id": "9Z9t5JAt606k"
      },
      "source": [
        "__ Problem Statement __\n",
        "- Identify which questions asked on Quora are duplicates of questions that have already been asked. \n",
        "- This could be useful to instantly provide answers to questions that have already been answered. \n",
        "- We are tasked with predicting whether a pair of questions are duplicates or not. "
      ]
    },
    {
      "cell_type": "markdown",
      "metadata": {
        "id": "0i_O1Li6H1PJ"
      },
      "source": [
        "### Constraints"
      ]
    },
    {
      "cell_type": "markdown",
      "metadata": {
        "id": "a-F28dwyH4cp"
      },
      "source": [
        "1. Cost of misclassification can be high. \n",
        "2. latency is not an issue.\n",
        "3. Having a probablility value for 2 questions to be duplicate will help because we can set a threshold. \n",
        "4. Interpretability is partially important.\n"
      ]
    },
    {
      "cell_type": "markdown",
      "metadata": {
        "id": "QtloOCy0NglA"
      },
      "source": [
        "### Data overvieww"
      ]
    },
    {
      "cell_type": "markdown",
      "metadata": {
        "id": "0CKcfDcyNhEI"
      },
      "source": [
        "- Data will be in a file Train.csv <br>\n",
        "- Train.csv contains 5 columns : qid1, qid2, question1, question2, is_duplicate <br>\n",
        "- Size of Train.csv - 60MB <br>\n",
        "- Number of rows in Train.csv = 404,290\n",
        "</p>"
      ]
    },
    {
      "cell_type": "markdown",
      "metadata": {
        "id": "oDkfyL1mQo81"
      },
      "source": [
        "### Performance Metrics\n"
      ]
    },
    {
      "cell_type": "markdown",
      "metadata": {
        "id": "5o2E9qi4QpAY"
      },
      "source": [
        "- log-loss is the performance metric that we must use to evaluate our model.\n",
        "- Binary Confusion matrix. "
      ]
    },
    {
      "cell_type": "markdown",
      "metadata": {
        "id": "ykUcqohMTMKk"
      },
      "source": [
        "### Note:\n",
        "The types of questions can change over time. If we had time data of questions, we would have sorted those questions based on time. Since we cannot do this, the best way for now will be randomly splitting data into train and test. \n"
      ]
    },
    {
      "cell_type": "markdown",
      "metadata": {
        "id": "VagkDgPGUVeZ"
      },
      "source": [
        "## Exploratory Data Analysis\n"
      ]
    },
    {
      "cell_type": "code",
      "execution_count": null,
      "metadata": {
        "colab": {
          "base_uri": "https://localhost:8080/"
        },
        "id": "2FAEjAzEWETs",
        "outputId": "752c0de4-3cbe-45ce-c290-e193845c599e"
      },
      "outputs": [
        {
          "name": "stdout",
          "output_type": "stream",
          "text": [
            "Collecting Distance\n",
            "  Downloading Distance-0.1.3.tar.gz (180 kB)\n",
            "\u001b[?25l\r\u001b[K     |█▉                              | 10 kB 18.2 MB/s eta 0:00:01\r\u001b[K     |███▋                            | 20 kB 20.9 MB/s eta 0:00:01\r\u001b[K     |█████▌                          | 30 kB 23.1 MB/s eta 0:00:01\r\u001b[K     |███████▎                        | 40 kB 13.7 MB/s eta 0:00:01\r\u001b[K     |█████████                       | 51 kB 9.2 MB/s eta 0:00:01\r\u001b[K     |███████████                     | 61 kB 10.6 MB/s eta 0:00:01\r\u001b[K     |████████████▊                   | 71 kB 8.7 MB/s eta 0:00:01\r\u001b[K     |██████████████▌                 | 81 kB 7.5 MB/s eta 0:00:01\r\u001b[K     |████████████████▍               | 92 kB 8.3 MB/s eta 0:00:01\r\u001b[K     |██████████████████▏             | 102 kB 9.0 MB/s eta 0:00:01\r\u001b[K     |████████████████████            | 112 kB 9.0 MB/s eta 0:00:01\r\u001b[K     |█████████████████████▉          | 122 kB 9.0 MB/s eta 0:00:01\r\u001b[K     |███████████████████████▋        | 133 kB 9.0 MB/s eta 0:00:01\r\u001b[K     |█████████████████████████▌      | 143 kB 9.0 MB/s eta 0:00:01\r\u001b[K     |███████████████████████████▎    | 153 kB 9.0 MB/s eta 0:00:01\r\u001b[K     |█████████████████████████████   | 163 kB 9.0 MB/s eta 0:00:01\r\u001b[K     |███████████████████████████████ | 174 kB 9.0 MB/s eta 0:00:01\r\u001b[K     |████████████████████████████████| 180 kB 9.0 MB/s \n",
            "\u001b[?25hBuilding wheels for collected packages: Distance\n",
            "  Building wheel for Distance (setup.py) ... \u001b[?25l\u001b[?25hdone\n",
            "  Created wheel for Distance: filename=Distance-0.1.3-py3-none-any.whl size=16276 sha256=7c09f6c8305bea14d0448bdbdd1601f2c0692338fd8d0f4919cbb3559fae4b43\n",
            "  Stored in directory: /root/.cache/pip/wheels/b2/10/1b/96fca621a1be378e2fe104cfb0d160bb6cdf3d04a3d35266cc\n",
            "Successfully built Distance\n",
            "Installing collected packages: Distance\n",
            "Successfully installed Distance-0.1.3\n"
          ]
        }
      ],
      "source": [
        "!pip install Distance"
      ]
    },
    {
      "cell_type": "code",
      "execution_count": null,
      "metadata": {
        "colab": {
          "base_uri": "https://localhost:8080/"
        },
        "id": "Md8l0IpwuSfI",
        "outputId": "3a89a26a-b308-47e8-daa6-bd4a7480b327"
      },
      "outputs": [
        {
          "name": "stdout",
          "output_type": "stream",
          "text": [
            "Collecting fuzzywuzzy\n",
            "  Downloading fuzzywuzzy-0.18.0-py2.py3-none-any.whl (18 kB)\n",
            "Installing collected packages: fuzzywuzzy\n",
            "Successfully installed fuzzywuzzy-0.18.0\n"
          ]
        }
      ],
      "source": [
        "!pip install fuzzywuzzy"
      ]
    },
    {
      "cell_type": "code",
      "execution_count": null,
      "metadata": {
        "colab": {
          "base_uri": "https://localhost:8080/",
          "height": 86
        },
        "id": "Ria4dxaNRRsK",
        "outputId": "03e17121-8498-4146-f04f-f2620554615c"
      },
      "outputs": [
        {
          "data": {
            "text/html": [
              "        <script type=\"text/javascript\">\n",
              "        window.PlotlyConfig = {MathJaxConfig: 'local'};\n",
              "        if (window.MathJax) {MathJax.Hub.Config({SVG: {font: \"STIX-Web\"}});}\n",
              "        if (typeof require !== 'undefined') {\n",
              "        require.undef(\"plotly\");\n",
              "        requirejs.config({\n",
              "            paths: {\n",
              "                'plotly': ['https://cdn.plot.ly/plotly-2.8.3.min']\n",
              "            }\n",
              "        });\n",
              "        require(['plotly'], function(Plotly) {\n",
              "            window._Plotly = Plotly;\n",
              "        });\n",
              "        }\n",
              "        </script>\n",
              "        "
            ]
          },
          "metadata": {},
          "output_type": "display_data"
        },
        {
          "name": "stderr",
          "output_type": "stream",
          "text": [
            "/usr/local/lib/python3.7/dist-packages/fuzzywuzzy/fuzz.py:11: UserWarning:\n",
            "\n",
            "Using slow pure-python SequenceMatcher. Install python-Levenshtein to remove this warning\n",
            "\n"
          ]
        }
      ],
      "source": [
        "# Importing libraries\n",
        "import numpy as np\n",
        "import pandas as pd\n",
        "import matplotlib.pyplot as plt\n",
        "import seaborn as sns\n",
        "from subprocess import check_output\n",
        "%matplotlib inline\n",
        "import plotly.offline as py\n",
        "py.init_notebook_mode(connected=True)\n",
        "import plotly.graph_objs as go\n",
        "import plotly.tools as tls\n",
        "import os\n",
        "import gc\n",
        "\n",
        "import re\n",
        "from nltk.corpus import stopwords\n",
        "import distance\n",
        "from nltk.stem import PorterStemmer\n",
        "from bs4 import BeautifulSoup\n",
        "from nltk.tokenize import RegexpTokenizer\n",
        "from nltk.stem import PorterStemmer\n",
        "from nltk.stem.snowball import SnowballStemmer\n",
        "from difflib import SequenceMatcher\n",
        "from fuzzywuzzy import fuzz"
      ]
    },
    {
      "cell_type": "code",
      "execution_count": null,
      "metadata": {
        "colab": {
          "base_uri": "https://localhost:8080/"
        },
        "id": "RY5nXtSNXVEA",
        "outputId": "bd6614fd-1a7a-4acf-f09b-e2cf07fff5c9"
      },
      "outputs": [
        {
          "name": "stdout",
          "output_type": "stream",
          "text": [
            "Drive already mounted at /content/drive; to attempt to forcibly remount, call drive.mount(\"/content/drive\", force_remount=True).\n"
          ]
        }
      ],
      "source": [
        "from google.colab import drive\n",
        "drive.mount('/content/drive')"
      ]
    },
    {
      "cell_type": "markdown",
      "metadata": {
        "id": "fH3J2gQ0Z2sT"
      },
      "source": [
        "### Readig data and basic analysis"
      ]
    },
    {
      "cell_type": "code",
      "execution_count": null,
      "metadata": {
        "id": "2CLTDCa5bWfv"
      },
      "outputs": [],
      "source": [
        "# from google.colab import files\n",
        "# import io\n",
        "# train_csv = files.upload()"
      ]
    },
    {
      "cell_type": "code",
      "execution_count": null,
      "metadata": {
        "colab": {
          "base_uri": "https://localhost:8080/"
        },
        "id": "BEqF-aCocsx1",
        "outputId": "8a5f310f-be64-4289-b32e-90022bccb3ed"
      },
      "outputs": [
        {
          "name": "stdout",
          "output_type": "stream",
          "text": [
            "(404290, 6)\n"
          ]
        }
      ],
      "source": [
        "# df = pd.read_csv(io.BytesIO(train_csv['train.csv']))\n",
        "df = pd.read_csv(r'/content/drive/MyDrive/ML Datasets/CaseStudy1 - Quora/train.csv')\n",
        "print(df.shape)"
      ]
    },
    {
      "cell_type": "code",
      "execution_count": null,
      "metadata": {
        "colab": {
          "base_uri": "https://localhost:8080/",
          "height": 468
        },
        "id": "_MuCW6hCZ11h",
        "outputId": "73cac9e6-9828-4bdb-f129-50584713cb91"
      },
      "outputs": [
        {
          "data": {
            "text/html": [
              "\n",
              "  <div id=\"df-2e8626b6-aee2-48ce-9a3d-328e1ecba4a6\">\n",
              "    <div class=\"colab-df-container\">\n",
              "      <div>\n",
              "<style scoped>\n",
              "    .dataframe tbody tr th:only-of-type {\n",
              "        vertical-align: middle;\n",
              "    }\n",
              "\n",
              "    .dataframe tbody tr th {\n",
              "        vertical-align: top;\n",
              "    }\n",
              "\n",
              "    .dataframe thead th {\n",
              "        text-align: right;\n",
              "    }\n",
              "</style>\n",
              "<table border=\"1\" class=\"dataframe\">\n",
              "  <thead>\n",
              "    <tr style=\"text-align: right;\">\n",
              "      <th></th>\n",
              "      <th>id</th>\n",
              "      <th>qid1</th>\n",
              "      <th>qid2</th>\n",
              "      <th>question1</th>\n",
              "      <th>question2</th>\n",
              "      <th>is_duplicate</th>\n",
              "    </tr>\n",
              "  </thead>\n",
              "  <tbody>\n",
              "    <tr>\n",
              "      <th>0</th>\n",
              "      <td>0</td>\n",
              "      <td>1</td>\n",
              "      <td>2</td>\n",
              "      <td>What is the step by step guide to invest in sh...</td>\n",
              "      <td>What is the step by step guide to invest in sh...</td>\n",
              "      <td>0</td>\n",
              "    </tr>\n",
              "    <tr>\n",
              "      <th>1</th>\n",
              "      <td>1</td>\n",
              "      <td>3</td>\n",
              "      <td>4</td>\n",
              "      <td>What is the story of Kohinoor (Koh-i-Noor) Dia...</td>\n",
              "      <td>What would happen if the Indian government sto...</td>\n",
              "      <td>0</td>\n",
              "    </tr>\n",
              "    <tr>\n",
              "      <th>2</th>\n",
              "      <td>2</td>\n",
              "      <td>5</td>\n",
              "      <td>6</td>\n",
              "      <td>How can I increase the speed of my internet co...</td>\n",
              "      <td>How can Internet speed be increased by hacking...</td>\n",
              "      <td>0</td>\n",
              "    </tr>\n",
              "    <tr>\n",
              "      <th>3</th>\n",
              "      <td>3</td>\n",
              "      <td>7</td>\n",
              "      <td>8</td>\n",
              "      <td>Why am I mentally very lonely? How can I solve...</td>\n",
              "      <td>Find the remainder when [math]23^{24}[/math] i...</td>\n",
              "      <td>0</td>\n",
              "    </tr>\n",
              "    <tr>\n",
              "      <th>4</th>\n",
              "      <td>4</td>\n",
              "      <td>9</td>\n",
              "      <td>10</td>\n",
              "      <td>Which one dissolve in water quikly sugar, salt...</td>\n",
              "      <td>Which fish would survive in salt water?</td>\n",
              "      <td>0</td>\n",
              "    </tr>\n",
              "    <tr>\n",
              "      <th>...</th>\n",
              "      <td>...</td>\n",
              "      <td>...</td>\n",
              "      <td>...</td>\n",
              "      <td>...</td>\n",
              "      <td>...</td>\n",
              "      <td>...</td>\n",
              "    </tr>\n",
              "    <tr>\n",
              "      <th>95</th>\n",
              "      <td>95</td>\n",
              "      <td>191</td>\n",
              "      <td>192</td>\n",
              "      <td>How does 3D printing work?</td>\n",
              "      <td>How do 3D printing work?</td>\n",
              "      <td>1</td>\n",
              "    </tr>\n",
              "    <tr>\n",
              "      <th>96</th>\n",
              "      <td>96</td>\n",
              "      <td>193</td>\n",
              "      <td>194</td>\n",
              "      <td>What was it like to attend Caltech with Jeremy...</td>\n",
              "      <td>Who are some notable folks who attended Caltech?</td>\n",
              "      <td>0</td>\n",
              "    </tr>\n",
              "    <tr>\n",
              "      <th>97</th>\n",
              "      <td>97</td>\n",
              "      <td>195</td>\n",
              "      <td>196</td>\n",
              "      <td>Why did harry become a horcrux?</td>\n",
              "      <td>What is a Horcrux?</td>\n",
              "      <td>0</td>\n",
              "    </tr>\n",
              "    <tr>\n",
              "      <th>98</th>\n",
              "      <td>98</td>\n",
              "      <td>197</td>\n",
              "      <td>198</td>\n",
              "      <td>What are the best associate product manager (A...</td>\n",
              "      <td>What are the general requirement to become a P...</td>\n",
              "      <td>0</td>\n",
              "    </tr>\n",
              "    <tr>\n",
              "      <th>99</th>\n",
              "      <td>99</td>\n",
              "      <td>199</td>\n",
              "      <td>200</td>\n",
              "      <td>Why is the number for Skype at 1-855-425-3768 ...</td>\n",
              "      <td>How could I get Skype to work on an android 4....</td>\n",
              "      <td>0</td>\n",
              "    </tr>\n",
              "  </tbody>\n",
              "</table>\n",
              "<p>100 rows × 6 columns</p>\n",
              "</div>\n",
              "      <button class=\"colab-df-convert\" onclick=\"convertToInteractive('df-2e8626b6-aee2-48ce-9a3d-328e1ecba4a6')\"\n",
              "              title=\"Convert this dataframe to an interactive table.\"\n",
              "              style=\"display:none;\">\n",
              "        \n",
              "  <svg xmlns=\"http://www.w3.org/2000/svg\" height=\"24px\"viewBox=\"0 0 24 24\"\n",
              "       width=\"24px\">\n",
              "    <path d=\"M0 0h24v24H0V0z\" fill=\"none\"/>\n",
              "    <path d=\"M18.56 5.44l.94 2.06.94-2.06 2.06-.94-2.06-.94-.94-2.06-.94 2.06-2.06.94zm-11 1L8.5 8.5l.94-2.06 2.06-.94-2.06-.94L8.5 2.5l-.94 2.06-2.06.94zm10 10l.94 2.06.94-2.06 2.06-.94-2.06-.94-.94-2.06-.94 2.06-2.06.94z\"/><path d=\"M17.41 7.96l-1.37-1.37c-.4-.4-.92-.59-1.43-.59-.52 0-1.04.2-1.43.59L10.3 9.45l-7.72 7.72c-.78.78-.78 2.05 0 2.83L4 21.41c.39.39.9.59 1.41.59.51 0 1.02-.2 1.41-.59l7.78-7.78 2.81-2.81c.8-.78.8-2.07 0-2.86zM5.41 20L4 18.59l7.72-7.72 1.47 1.35L5.41 20z\"/>\n",
              "  </svg>\n",
              "      </button>\n",
              "      \n",
              "  <style>\n",
              "    .colab-df-container {\n",
              "      display:flex;\n",
              "      flex-wrap:wrap;\n",
              "      gap: 12px;\n",
              "    }\n",
              "\n",
              "    .colab-df-convert {\n",
              "      background-color: #E8F0FE;\n",
              "      border: none;\n",
              "      border-radius: 50%;\n",
              "      cursor: pointer;\n",
              "      display: none;\n",
              "      fill: #1967D2;\n",
              "      height: 32px;\n",
              "      padding: 0 0 0 0;\n",
              "      width: 32px;\n",
              "    }\n",
              "\n",
              "    .colab-df-convert:hover {\n",
              "      background-color: #E2EBFA;\n",
              "      box-shadow: 0px 1px 2px rgba(60, 64, 67, 0.3), 0px 1px 3px 1px rgba(60, 64, 67, 0.15);\n",
              "      fill: #174EA6;\n",
              "    }\n",
              "\n",
              "    [theme=dark] .colab-df-convert {\n",
              "      background-color: #3B4455;\n",
              "      fill: #D2E3FC;\n",
              "    }\n",
              "\n",
              "    [theme=dark] .colab-df-convert:hover {\n",
              "      background-color: #434B5C;\n",
              "      box-shadow: 0px 1px 3px 1px rgba(0, 0, 0, 0.15);\n",
              "      filter: drop-shadow(0px 1px 2px rgba(0, 0, 0, 0.3));\n",
              "      fill: #FFFFFF;\n",
              "    }\n",
              "  </style>\n",
              "\n",
              "      <script>\n",
              "        const buttonEl =\n",
              "          document.querySelector('#df-2e8626b6-aee2-48ce-9a3d-328e1ecba4a6 button.colab-df-convert');\n",
              "        buttonEl.style.display =\n",
              "          google.colab.kernel.accessAllowed ? 'block' : 'none';\n",
              "\n",
              "        async function convertToInteractive(key) {\n",
              "          const element = document.querySelector('#df-2e8626b6-aee2-48ce-9a3d-328e1ecba4a6');\n",
              "          const dataTable =\n",
              "            await google.colab.kernel.invokeFunction('convertToInteractive',\n",
              "                                                     [key], {});\n",
              "          if (!dataTable) return;\n",
              "\n",
              "          const docLinkHtml = 'Like what you see? Visit the ' +\n",
              "            '<a target=\"_blank\" href=https://colab.research.google.com/notebooks/data_table.ipynb>data table notebook</a>'\n",
              "            + ' to learn more about interactive tables.';\n",
              "          element.innerHTML = '';\n",
              "          dataTable['output_type'] = 'display_data';\n",
              "          await google.colab.output.renderOutput(dataTable, element);\n",
              "          const docLink = document.createElement('div');\n",
              "          docLink.innerHTML = docLinkHtml;\n",
              "          element.appendChild(docLink);\n",
              "        }\n",
              "      </script>\n",
              "    </div>\n",
              "  </div>\n",
              "  "
            ],
            "text/plain": [
              "    id  qid1  qid2                                          question1  \\\n",
              "0    0     1     2  What is the step by step guide to invest in sh...   \n",
              "1    1     3     4  What is the story of Kohinoor (Koh-i-Noor) Dia...   \n",
              "2    2     5     6  How can I increase the speed of my internet co...   \n",
              "3    3     7     8  Why am I mentally very lonely? How can I solve...   \n",
              "4    4     9    10  Which one dissolve in water quikly sugar, salt...   \n",
              "..  ..   ...   ...                                                ...   \n",
              "95  95   191   192                         How does 3D printing work?   \n",
              "96  96   193   194  What was it like to attend Caltech with Jeremy...   \n",
              "97  97   195   196                    Why did harry become a horcrux?   \n",
              "98  98   197   198  What are the best associate product manager (A...   \n",
              "99  99   199   200  Why is the number for Skype at 1-855-425-3768 ...   \n",
              "\n",
              "                                            question2  is_duplicate  \n",
              "0   What is the step by step guide to invest in sh...             0  \n",
              "1   What would happen if the Indian government sto...             0  \n",
              "2   How can Internet speed be increased by hacking...             0  \n",
              "3   Find the remainder when [math]23^{24}[/math] i...             0  \n",
              "4             Which fish would survive in salt water?             0  \n",
              "..                                                ...           ...  \n",
              "95                           How do 3D printing work?             1  \n",
              "96   Who are some notable folks who attended Caltech?             0  \n",
              "97                                 What is a Horcrux?             0  \n",
              "98  What are the general requirement to become a P...             0  \n",
              "99  How could I get Skype to work on an android 4....             0  \n",
              "\n",
              "[100 rows x 6 columns]"
            ]
          },
          "execution_count": 8,
          "metadata": {},
          "output_type": "execute_result"
        }
      ],
      "source": [
        "df.head(100)"
      ]
    },
    {
      "cell_type": "code",
      "execution_count": null,
      "metadata": {
        "colab": {
          "base_uri": "https://localhost:8080/"
        },
        "id": "NJ5xDR3TsoWW",
        "outputId": "bc59bdfd-8663-44a9-f7b2-f19de71c324c"
      },
      "outputs": [
        {
          "name": "stdout",
          "output_type": "stream",
          "text": [
            "<class 'pandas.core.frame.DataFrame'>\n",
            "RangeIndex: 404290 entries, 0 to 404289\n",
            "Data columns (total 6 columns):\n",
            " #   Column        Non-Null Count   Dtype \n",
            "---  ------        --------------   ----- \n",
            " 0   id            404290 non-null  int64 \n",
            " 1   qid1          404290 non-null  int64 \n",
            " 2   qid2          404290 non-null  int64 \n",
            " 3   question1     404289 non-null  object\n",
            " 4   question2     404288 non-null  object\n",
            " 5   is_duplicate  404290 non-null  int64 \n",
            "dtypes: int64(4), object(2)\n",
            "memory usage: 18.5+ MB\n"
          ]
        }
      ],
      "source": [
        "df.info()"
      ]
    },
    {
      "cell_type": "markdown",
      "metadata": {
        "id": "KBqLkVyBt0LQ"
      },
      "source": [
        "- id is just like a simple id <br>\n",
        "- q id 1 and 2 are the ids of questions <br>\n",
        "- is_duplicate is the class label (0 or 1) which means if they are similar or not. (0= dissimilar and 1 = similar)\n",
        "\n"
      ]
    },
    {
      "cell_type": "code",
      "execution_count": null,
      "metadata": {
        "colab": {
          "base_uri": "https://localhost:8080/",
          "height": 279
        },
        "id": "lojBinzltwuC",
        "outputId": "aac7ed47-12b5-408d-8e93-b1a7da48dbdb"
      },
      "outputs": [
        {
          "data": {
            "text/plain": [
              "<matplotlib.axes._subplots.AxesSubplot at 0x7f22c69d3290>"
            ]
          },
          "execution_count": 10,
          "metadata": {},
          "output_type": "execute_result"
        },
        {
          "data": {
            "image/png": "[encoded data removed]",
            "text/plain": [
              "<Figure size 432x288 with 1 Axes>"
            ]
          },
          "metadata": {},
          "output_type": "display_data"
        }
      ],
      "source": [
        "df['is_duplicate'].value_counts().plot(kind='bar')"
      ]
    },
    {
      "cell_type": "code",
      "execution_count": null,
      "metadata": {
        "colab": {
          "base_uri": "https://localhost:8080/"
        },
        "id": "NgORuATftfFz",
        "outputId": "403eb95a-a3f6-4409-8c8a-448e46db8797"
      },
      "outputs": [
        {
          "name": "stdout",
          "output_type": "stream",
          "text": [
            "Total number of question pairs in the dataset for training = 404290 \n"
          ]
        }
      ],
      "source": [
        "print(\"Total number of question pairs in the dataset for training = {} \".format(len(df)))"
      ]
    },
    {
      "cell_type": "code",
      "execution_count": null,
      "metadata": {
        "colab": {
          "base_uri": "https://localhost:8080/"
        },
        "id": "8C9goOvbzeAd",
        "outputId": "c910e172-7d03-4641-e3db-7d5356037a7c"
      },
      "outputs": [
        {
          "name": "stdout",
          "output_type": "stream",
          "text": [
            "Question pairs that are not similar (is_duplicate=0) = 63.08% \n",
            "Question pairs that are similar (is_duplicate=1) = 36.92% \n"
          ]
        }
      ],
      "source": [
        "print(\"Question pairs that are not similar (is_duplicate=0) = {}% \".format(round((1-df['is_duplicate'].mean())*100 , 2)))\n",
        "print(\"Question pairs that are similar (is_duplicate=1) = {}% \".format(round(df['is_duplicate'].mean()*100 , 2)))"
      ]
    },
    {
      "cell_type": "code",
      "execution_count": null,
      "metadata": {
        "colab": {
          "base_uri": "https://localhost:8080/"
        },
        "id": "q2HShVJ01GPe",
        "outputId": "460e8f14-5db8-4462-d8dd-6e2845fbfce7"
      },
      "outputs": [
        {
          "name": "stdout",
          "output_type": "stream",
          "text": [
            "~> Number of unique questions = 537933\n",
            "Number of questions that appear more than once = 111780\n",
            "Maximum times a single question is repeated = 157\n"
          ]
        }
      ],
      "source": [
        "qids = pd.Series(df[\"qid1\"].tolist() + df[\"qid2\"].tolist())\n",
        "# # Merging the QuestionIDs into one pandas Serires by converting them into a list\n",
        "unique_qs = len(np.unique(qids))    # Unique questions\n",
        "print(\"~> Number of unique questions = {}\".format(unique_qs))\n",
        "qs_morethan_onetime = np.sum(qids.value_counts() > 1 )\n",
        "print(\"Number of questions that appear more than once = {}\".format(qs_morethan_onetime))\n",
        "print(\"Maximum times a single question is repeated = {}\".format(max(qids.value_counts())))\n"
      ]
    },
    {
      "cell_type": "code",
      "execution_count": null,
      "metadata": {
        "colab": {
          "base_uri": "https://localhost:8080/",
          "height": 281
        },
        "id": "1db28olsc9W7",
        "outputId": "aad7b17a-a222-48e7-9f26-81b78c06991a"
      },
      "outputs": [
        {
          "data": {
            "image/png": "[encoded data removed]",
            "text/plain": [
              "<Figure size 432x288 with 1 Axes>"
            ]
          },
          "metadata": {},
          "output_type": "display_data"
        }
      ],
      "source": [
        "# plot representing the share of unique questions and repeated questions\n",
        "sns.barplot(x=[\"Unique Questions\", \"Qns appearing more than once\"], y=[unique_qs, qs_morethan_onetime])\n",
        "plt.title(\"Plot representing the share of unique questions and repeated questions\")\n",
        "plt.show()"
      ]
    },
    {
      "cell_type": "code",
      "execution_count": null,
      "metadata": {
        "colab": {
          "base_uri": "https://localhost:8080/",
          "height": 521
        },
        "id": "bAQQFNXxdvFX",
        "outputId": "b3f33629-0e01-4602-f423-8ce3c74f3c04"
      },
      "outputs": [
        {
          "data": {
            "text/plain": [
              "Text(0.5, 1.0, 'log histogram of question frequency ')"
            ]
          },
          "execution_count": 15,
          "metadata": {},
          "output_type": "execute_result"
        },
        {
          "data": {
            "image/png": "[encoded data removed]",
            "text/plain": [
              "<Figure size 1440x720 with 1 Axes>"
            ]
          },
          "metadata": {},
          "output_type": "display_data"
        }
      ],
      "source": [
        "plt.figure(figsize=(20, 10))\n",
        "sns.histplot(qids.value_counts(), bins=160)\n",
        "plt.yscale('log')\n",
        "plt.xlabel(\"Frequency of occurance of a question\")\n",
        "plt.ylabel(\"Count\")\n",
        "plt.title(\"log histogram of question frequency \")"
      ]
    },
    {
      "cell_type": "markdown",
      "metadata": {
        "id": "jM99DxubxYEJ"
      },
      "source": [
        "### Handling null values"
      ]
    },
    {
      "cell_type": "code",
      "execution_count": null,
      "metadata": {
        "colab": {
          "base_uri": "https://localhost:8080/"
        },
        "id": "hXCq3oUzfvFd",
        "outputId": "fb44a3f4-618f-4540-ef11-4f54e13b6085"
      },
      "outputs": [
        {
          "name": "stdout",
          "output_type": "stream",
          "text": [
            "            id    qid1    qid2                         question1  \\\n",
            "105780  105780  174363  174364    How can I develop android app?   \n",
            "201841  201841  303951  174364  How can I create an Android app?   \n",
            "363362  363362  493340  493341                               NaN   \n",
            "\n",
            "                                                question2  is_duplicate  \n",
            "105780                                                NaN             0  \n",
            "201841                                                NaN             0  \n",
            "363362  My Chinese name is Haichao Yu. What English na...             0  \n"
          ]
        }
      ],
      "source": [
        "nan_rows = df[df.isnull().any(1)]\n",
        "print (nan_rows)"
      ]
    },
    {
      "cell_type": "code",
      "execution_count": null,
      "metadata": {
        "id": "jpC5HzdGyfva"
      },
      "outputs": [],
      "source": [
        "# Filling null values with ''\n",
        "df = df.fillna('')"
      ]
    },
    {
      "cell_type": "markdown",
      "metadata": {
        "id": "rMbX9Hnky_iz"
      },
      "source": [
        "### Basic Feature Extraction (Before Cleaning)"
      ]
    },
    {
      "cell_type": "markdown",
      "metadata": {
        "id": "FL4KQtb81VRe"
      },
      "source": [
        "**We will construct some baisc features out of the currently available features**\n",
        "- freq_qid1 = Frequency of qid1's<br>\n",
        "-freq_qid2 = Frequency of qid2's<br>\n",
        "-q1len = Length of question 1<br>\n",
        "-q2len = Length of question 2<br>\n",
        "-q1_n_words = Number of words in q1<br>\n",
        "-q2_n_words = Number of words in q2<br>\n",
        "-words_common = NUmber of common words in q1 and q2<br>\n",
        "-words_total = Number of total words in q1 and q2<br>\n",
        "-word_share = words_common/words_total<br>\n",
        "-freq_q1 + freq_q2 = Sum of frequencies of q1 and q2<br>\n",
        "-freq_q1 - freq_q2 = Absolute difference in frequencies of q1 and q2\n"
      ]
    },
    {
      "cell_type": "code",
      "execution_count": null,
      "metadata": {
        "id": "xQXtNR7my9vA"
      },
      "outputs": [],
      "source": [
        "df['freq_qid1'] = df.groupby('qid1')['qid1'].transform('count')\n",
        "df['freq_qid2'] = df.groupby('qid2')['qid2'].transform('count')\n",
        "df['q1len'] = df['question1'].str.len()\n",
        "df['q2len'] = df['question2'].str.len()\n",
        "df['q1_len_words'] = df['question1'].apply(lambda x : len(x.split(\" \")))\n",
        "df['q2_len_words'] = df['question2'].apply(lambda x : len(x.split(\" \")))\n",
        "\n",
        "def normalized_word_common (row):\n",
        "    w1 = set(map(lambda word : word.lower().strip(), row['question1'].split(\" \")))\n",
        "    w2 = set(map(lambda word : word.lower().strip(), row['question2'].split(\" \")))\n",
        "    return(len( w1 & w2))\n",
        "df['words_common'] = df.apply(normalized_word_common, axis=1)\n",
        "\n",
        "def normalized_word_total(row):\n",
        "    w1 = set(map(lambda word :word.lower().strip(), row['question1'].split(\" \")))\n",
        "    w2 = set(map(lambda word :word.lower().strip(), row['question1'].split(\" \")))\n",
        "    return(1.0* len(w1)*len(w2))\n",
        "df['words_total'] = df.apply(normalized_word_total, axis=1)\n",
        "\n",
        "def normalized_word_share(row):\n",
        "    w1 = set(map(lambda word : word.lower().strip(), row['question1'].split(\" \")))\n",
        "    w2 = set(map(lambda word : word.lower().strip(), row['question2'].split(\" \")))\n",
        "    return(len(w1 & w2)/(len(w1)+len(w2)))\n",
        "df['word_share'] = df.apply(normalized_word_share, axis=1)\n",
        "df.head()\n",
        "\n",
        "df['freq_q1+q2'] = df['freq_qid1']+df['freq_qid2']\n",
        "df['freq_q1-q2'] = abs(df['freq_qid1']-df['freq_qid2'])\n",
        "    \n",
        "\n"
      ]
    },
    {
      "cell_type": "markdown",
      "metadata": {
        "id": "Kf0oXGSyCBmI"
      },
      "source": [
        "### Feature: Word Share\n"
      ]
    },
    {
      "cell_type": "code",
      "execution_count": null,
      "metadata": {
        "colab": {
          "background_save": true
        },
        "id": "4eXvjS_3KWfs",
        "outputId": "d43d4976-529f-4c81-f64f-465eb6a5fbcc"
      },
      "outputs": [
        {
          "name": "stderr",
          "output_type": "stream",
          "text": [
            "/usr/local/lib/python3.7/dist-packages/seaborn/distributions.py:2619: FutureWarning:\n",
            "\n",
            "`distplot` is a deprecated function and will be removed in a future version. Please adapt your code to use either `displot` (a figure-level function with similar flexibility) or `histplot` (an axes-level function for histograms).\n",
            "\n",
            "/usr/local/lib/python3.7/dist-packages/seaborn/distributions.py:2619: FutureWarning:\n",
            "\n",
            "`distplot` is a deprecated function and will be removed in a future version. Please adapt your code to use either `displot` (a figure-level function with similar flexibility) or `histplot` (an axes-level function for histograms).\n",
            "\n"
          ]
        },
        {
          "data": {
            "image/png": "[encoded data removed]",
            "text/plain": [
              "<Figure size 864x576 with 2 Axes>"
            ]
          },
          "metadata": {},
          "output_type": "display_data"
        }
      ],
      "source": [
        "plt.figure(figsize = (12,8))\n",
        "\n",
        "plt.subplot(1,2,1)\n",
        "sns.violinplot(x=df['is_duplicate'], y=df['word_share'], data=df[0:])\n",
        "\n",
        "plt.subplot(1,2,2)\n",
        "sns.distplot(df[df['is_duplicate']==1.0]['word_share'][0:], label=\"1\", color='red')\n",
        "sns.distplot(df[df['is_duplicate']==0.0]['word_share'][0:], label=\"0\", color='blue')\n",
        "plt.legend()\n",
        "plt.show()"
      ]
    },
    {
      "cell_type": "markdown",
      "metadata": {
        "id": "yXi0SQwEK03E"
      },
      "source": [
        "### Feature Word_common"
      ]
    },
    {
      "cell_type": "code",
      "execution_count": null,
      "metadata": {
        "colab": {
          "background_save": true
        },
        "id": "nLW1wxw5Fl56",
        "outputId": "db0260da-0799-4fcf-ad3f-a233f7420085"
      },
      "outputs": [
        {
          "name": "stderr",
          "output_type": "stream",
          "text": [
            "/usr/local/lib/python3.7/dist-packages/seaborn/distributions.py:2619: FutureWarning:\n",
            "\n",
            "`distplot` is a deprecated function and will be removed in a future version. Please adapt your code to use either `displot` (a figure-level function with similar flexibility) or `histplot` (an axes-level function for histograms).\n",
            "\n",
            "/usr/local/lib/python3.7/dist-packages/seaborn/distributions.py:2619: FutureWarning:\n",
            "\n",
            "`distplot` is a deprecated function and will be removed in a future version. Please adapt your code to use either `displot` (a figure-level function with similar flexibility) or `histplot` (an axes-level function for histograms).\n",
            "\n"
          ]
        },
        {
          "data": {
            "image/png": "[encoded data removed]",
            "text/plain": [
              "<Figure size 864x576 with 2 Axes>"
            ]
          },
          "metadata": {},
          "output_type": "display_data"
        }
      ],
      "source": [
        "plt.figure(figsize = (12,8))\n",
        "\n",
        "plt.subplot(1,2,1)\n",
        "sns.violinplot(x=df[\"is_duplicate\"], y=df['words_common'])\n",
        "\n",
        "plt.subplot(1,2,2)\n",
        "sns.distplot(df[df[\"is_duplicate\"]==1]['words_common'][0:], color='red', label=\"1\")\n",
        "sns.distplot(df[df[\"is_duplicate\"]==0]['words_common'][0:], color = 'blue', label='0')\n",
        "plt.legend()\n",
        "plt.show()"
      ]
    },
    {
      "cell_type": "markdown",
      "metadata": {
        "id": "dEkvOIBF9ZUE"
      },
      "source": [
        "# Advanced Feature Extraction"
      ]
    },
    {
      "cell_type": "markdown",
      "metadata": {
        "id": "EisK3WED-W20"
      },
      "source": [
        "###  Basic preprocessing of text\n",
        "- Stop word removal(pp4)<br>\n",
        "- Removing punctuation marks (pp2)<br>\n",
        "- Removing html tags (pp1)<br>\n",
        "- Stemming(pp5)<br>\n",
        "- Expanding contractions(pp3), etc"
      ]
    },
    {
      "cell_type": "markdown",
      "metadata": {
        "id": "gO9rLWDV-cl6"
      },
      "source": [
        ""
      ]
    },
    {
      "cell_type": "code",
      "execution_count": null,
      "metadata": {
        "colab": {
          "background_save": true
        },
        "id": "s9ZcxQe7-Thq"
      },
      "outputs": [],
      "source": [
        "import nltk\n",
        "# nltk.download('stopwords')\n",
        "# Stop_Words = stopwords.words('english')\n",
        "# def preprocessing(row):\n",
        "#     q1_without_sw = map(lambda x : ' '.join([word for word in x.split() if word not in (Stop_Words)]), row)\n",
        "#     # q2_without_sw = map(lambda x : ' '.join([word for word in x.split() if word not in (Stop_Words)]), row['question2'])\n",
        "#     return(q1_without_sw)\n",
        "# df['q1_without_sw']= df['question1'].apply(preprocessing)\n",
        "# df.head()\n"
      ]
    },
    {
      "cell_type": "code",
      "execution_count": null,
      "metadata": {
        "colab": {
          "background_save": true
        },
        "id": "LZYy0UjXmjOn",
        "outputId": "874497b2-f24b-4244-cace-16f13622a7ad"
      },
      "outputs": [
        {
          "name": "stdout",
          "output_type": "stream",
          "text": [
            "[nltk_data] Downloading package stopwords to /root/nltk_data...\n",
            "[nltk_data]   Unzipping corpora/stopwords.zip.\n"
          ]
        }
      ],
      "source": [
        "\n",
        "CLEANR = re.compile('<.*?>')    # Removing HTML Tags   \n",
        "tokenizer = RegexpTokenizer(r'\\w+')    # Removing puntuations\n",
        "nltk.download('stopwords')    # Downloading Stop Words\n",
        "Stop_Words = stopwords.words('english')\n",
        "snow_stemmer = SnowballStemmer(language='english')    # Initializing SnowBall Stemmer for stemming\n",
        "\n",
        "def preprocessing(row):\n",
        "  # print(type(row))\n",
        "  row = str(row).lower()    # Converting everything into lower case\n",
        "  pp1_1 = re.sub(CLEANR, '', row)   # Removing HTML Tags\n",
        "  pp2_1 = tokenizer.tokenize(pp1_1)    # Removing punctuations\n",
        "  pp2_1 = \" \".join(pp2_1)    # The above line returns a list. Converting it into a string\n",
        "\n",
        "  pp3_1 = pp2_1.replace(\",000,000\", \"m\").replace(\",000\", \"k\").replace(\"′\", \"'\").replace(\"’\", \"'\")\\\n",
        "                      .replace(\"won't\", \"will not\").replace(\"cannot\", \"can not\").replace(\"can't\", \"can not\")\\\n",
        "                      .replace(\"n't\", \" not\").replace(\"what's\", \"what is\").replace(\"it's\", \"it is\")\\\n",
        "                      .replace(\"'ve\", \" have\").replace(\"i'm\", \"i am\").replace(\"'re\", \" are\")\\\n",
        "                      .replace(\"he's\", \"he is\").replace(\"she's\", \"she is\").replace(\"'s\", \" own\")\\\n",
        "                      .replace(\"%\", \" percent \").replace(\"₹\", \" rupee \").replace(\"$\", \" dollar \")\\\n",
        "                      .replace(\"€\", \" euro \").replace(\"'ll\", \" will\")\n",
        "\n",
        "  # pp4_1 = \"\".join([word for word in pp3_1 if word not in Stop_Words])\n",
        "  # pp4_1 = pp3_1.split()\n",
        "  # pp4_1 = \" \".join([word for word in pp4_1 if word not in Stop_Words])\n",
        "\n",
        "\n",
        "  pp5_1 = pp3_1.split()\n",
        "  for i in range(len(pp5_1)):\n",
        "    pp5_1[i] = snow_stemmer.stem(pp5_1[i])\n",
        "\n",
        "  pp5_1 = \" \".join([word for word in pp5_1 ])\n",
        "  return pp5_1\n"
      ]
    },
    {
      "cell_type": "markdown",
      "metadata": {
        "id": "o4zPnNgBzGw5"
      },
      "source": [
        "### Advanced Feature Extraction\n"
      ]
    },
    {
      "cell_type": "markdown",
      "metadata": {
        "id": "cnpSdzF51pa9"
      },
      "source": [
        "**Definition :**\n",
        "> **Token :** Tokenization is the process wherein a string is broken into parts. Each element of it is called a token. <br>\n",
        "> **Stop Words :** Stop words as per NLTK. <br>\n",
        "> **Word :** A token that is not a stopword. <br>\n",
        "\n",
        "**Features :**\n",
        "> **cwc_min** : Ratio of common word count to minimum word count of q1 and q2.<br>\n",
        "> **cwc_max** : Ratio of common word count to maximum word count of q1 and q2.<br>\n",
        "> **csc_min :** Ratio of common StopWord count to minimum stro word count of q1 and q2<br>\n",
        "> **csc_max:** Ratio of common StopWords count to maximum stop word count of q1 and q2. <br>\n",
        "> **ctc_min:** Ratio of common token count to minimum length of token count of q1 and q2. <br>\n",
        "> **ctc_max:** Ratio of common token count to maximum length of token count of q1 and q2. <br>\n",
        "> **last_word_eq:** Check if last word of both the questions is equal or not. <br>\n",
        "> **first_word_eq:** Check if first word of both the questions is equal or not. <br>\n",
        "> **abs_len_diff: ** Absolute length difference. <br>\n",
        "> **mean_len:** Mean length of q1 and q2. <br>\n",
        "\n",
        "> **fuzz_ratio__ :**  https://github.com/seatgeek/fuzzywuzzy#usage\n",
        "http://chairnerd.seatgeek.com/fuzzywuzzy-fuzzy-string-matching-in-python/\n",
        "<br>\n",
        "\n",
        ">**fuzz_partial_ratio:**  https://github.com/seatgeek/fuzzywuzzy#usage\n",
        "http://chairnerd.seatgeek.com/fuzzywuzzy-fuzzy-string-matching-in-python/\n",
        "<br>\n",
        "\n",
        "\n",
        "> **token_sort_ratio:** https://github.com/seatgeek/fuzzywuzzy#usage\n",
        "http://chairnerd.seatgeek.com/fuzzywuzzy-fuzzy-string-matching-in-python/\n",
        "<br>\n",
        "\n",
        "\n",
        "\n",
        "> **token_set_ratio :** https://github.com/seatgeek/fuzzywuzzy#usage\n",
        "http://chairnerd.seatgeek.com/fuzzywuzzy-fuzzy-string-matching-in-python/\n",
        "<br>\n",
        "\n",
        "\n",
        "\n",
        "\n",
        "\n",
        ">**longest_substr_ratio :**  Ratio of length longest common substring to min lenghth of token count of Q1 and Q2<br>longest_substr_ratio = len(longest common substring) / (min(len(q1_tokens), len(q2_tokens))"
      ]
    },
    {
      "cell_type": "code",
      "execution_count": null,
      "metadata": {
        "colab": {
          "background_save": true
        },
        "id": "tlC9hHta1I_T"
      },
      "outputs": [],
      "source": [
        "def get_token_feature(q1, q2):\n",
        "  token_features = [0.0]*10\n",
        "\n",
        "# Converting sentence into tokens\n",
        "  q1_tokens = q1.split()\n",
        "  q2_tokens = q2.split()\n",
        "\n",
        "  if len(q1_tokens)==0 or len(q2_tokens)==0:\n",
        "    return token_features\n",
        "  \n",
        "  # Getting non-stopwords in the questions\n",
        "  q1_words = set([words for words in q1_tokens if words not in Stop_Words])\n",
        "  q2_words = set([words for words in q2_tokens if words not in Stop_Words])\n",
        "\n",
        "  # Getting the stop-words in questions\n",
        "  q1_stops = set([words for words in q1_tokens if words in Stop_Words])\n",
        "  q2_stops = set([words for words in q2_tokens if words in Stop_Words])\n",
        "\n",
        "  # Getting common non-stopwords from the question pairs\n",
        "  common_word_count = len(q1_words.intersection(q2_words))\n",
        "\n",
        "# Getting common stop-words from the question pairs\n",
        "  common_stop_count = len(q1_stops.intersection(q2_stops))\n",
        "\n",
        "# Getting common tokens from question pairs\n",
        "  common_token_count = len(set(q1_tokens).intersection(set(q2_tokens)))\n",
        "\n",
        "\n",
        "  token_features[0]= common_word_count/(min(len(q1_words), len(q2_words))+0.0001)\n",
        "  token_features[1]= common_word_count/(max(len(q1_words), len(q2_words))+0.0001)\n",
        "  token_features[2]= common_stop_count/(min(len(q1_stops), len(q2_stops))+0.0001)\n",
        "  token_features[3]= common_stop_count/(max(len(q1_stops), len(q2_stops))+0.0001)\n",
        "  token_features[4]= common_token_count/(min(len(q1_tokens), len(q2_tokens))+0.0001)\n",
        "  token_features[5]= common_token_count/(max(len(q1_tokens), len(q2_tokens))+0.0001)\n",
        "  token_features[6]= int(q1_tokens[-1]==q2_tokens[-1])\n",
        "  token_features[7]= int(q1_tokens[0]==q2_tokens[0])\n",
        "  token_features[8]= abs(len(q1_tokens)-len(q2_tokens))\n",
        "  token_features[9]= (len(q1_tokens)+len(q2_tokens))/2\n",
        "  return(token_features)\n",
        "\n",
        "\n",
        "# Getting longest common substring\n",
        "def get_longest_substr_ratio(a, b):\n",
        "    strs = list(distance.lcsubstrings(a, b))\n",
        "    if len(strs) == 0:\n",
        "        return 0\n",
        "    else:\n",
        "        return len(strs[0]) / (min(len(a), len(b)) + 1)\n",
        "def extract_features(df):\n",
        "  # Preprocessing each question\n",
        "  df['question1'] = df['question1'].fillna(\"\").apply(preprocessing)\n",
        "  df['question2'] = df['question2'].fillna(\"\").apply(preprocessing)\n",
        "\n",
        "  # Merging features with dataset\n",
        "  token_features = df.apply(lambda x: get_token_feature(x['question1'], x['question2']),axis=1)\n",
        "  df[\"cwc_min\"]       = list(map(lambda x: x[0], token_features))\n",
        "  df[\"cwc_max\"]       = list(map(lambda x: x[1], token_features))\n",
        "  df[\"csc_min\"]       = list(map(lambda x: x[2], token_features))\n",
        "  df[\"csc_max\"]       = list(map(lambda x: x[3], token_features))\n",
        "  df[\"ctc_min\"]       = list(map(lambda x: x[4], token_features))\n",
        "  df[\"ctc_max\"]       = list(map(lambda x: x[5], token_features))\n",
        "  df[\"last_word_eq\"]  = list(map(lambda x: x[6], token_features))\n",
        "  df[\"first_word_eq\"] = list(map(lambda x: x[7], token_features))\n",
        "  df[\"abs_len_diff\"]  = list(map(lambda x: x[8], token_features))\n",
        "  df[\"mean_len\"]      = list(map(lambda x: x[9], token_features))\n",
        "\n",
        "  df[\"token_set_ratio\"] = df.apply(lambda x: fuzz.token_set_ratio(x[\"question1\"], x[\"question2\"]), axis=1)\n",
        "  # The token sort approach involves tokenizing the string in question, sorting the tokens alphabetically, and \n",
        "  # then joining them back into a string We then compare the transformed strings with a simple ratio().\n",
        "  df[\"token_sort_ratio\"] = df.apply(lambda x: fuzz.token_sort_ratio(x[\"question1\"], x[\"question2\"]), axis=1)\n",
        "  df[\"fuzz_ratio\"] = df.apply(lambda x: fuzz.QRatio(x[\"question1\"], x[\"question2\"]), axis=1)\n",
        "  df[\"fuzz_partial_ratio\"] = df.apply(lambda x: fuzz.partial_ratio(x[\"question1\"], x[\"question2\"]), axis=1)\n",
        "  df[\"longest_substr_ratio\"] = df.apply(lambda x: get_longest_substr_ratio(x[\"question1\"], x[\"question2\"]), axis=1)\n",
        "  return df"
      ]
    },
    {
      "cell_type": "code",
      "execution_count": null,
      "metadata": {
        "colab": {
          "background_save": true
        },
        "id": "yKzjtn-NCfPN",
        "outputId": "9860643f-a73f-448f-b618-c31b40598ab1"
      },
      "outputs": [
        {
          "ename": "KeyboardInterrupt",
          "evalue": "ignored",
          "output_type": "error",
          "traceback": [
            "\u001b[0;31m---------------------------------------------------------------------------\u001b[0m",
            "\u001b[0;31mKeyboardInterrupt\u001b[0m                         Traceback (most recent call last)",
            "\u001b[0;32m<ipython-input-24-a269038301c4>\u001b[0m in \u001b[0;36m<module>\u001b[0;34m()\u001b[0m\n\u001b[1;32m      1\u001b[0m \u001b[0mdf\u001b[0m \u001b[0;34m=\u001b[0m \u001b[0mpd\u001b[0m\u001b[0;34m.\u001b[0m\u001b[0mread_csv\u001b[0m\u001b[0;34m(\u001b[0m\u001b[0;34mr'/content/drive/MyDrive/ML Datasets/CaseStudy1 - Quora/train.csv'\u001b[0m\u001b[0;34m)\u001b[0m\u001b[0;34m\u001b[0m\u001b[0;34m\u001b[0m\u001b[0m\n\u001b[0;32m----> 2\u001b[0;31m \u001b[0mdf\u001b[0m \u001b[0;34m=\u001b[0m \u001b[0mextract_features\u001b[0m\u001b[0;34m(\u001b[0m\u001b[0mdf\u001b[0m\u001b[0;34m)\u001b[0m\u001b[0;34m\u001b[0m\u001b[0;34m\u001b[0m\u001b[0m\n\u001b[0m\u001b[1;32m      3\u001b[0m \u001b[0mdf\u001b[0m\u001b[0;34m.\u001b[0m\u001b[0mto_csv\u001b[0m\u001b[0;34m(\u001b[0m\u001b[0mindex\u001b[0m\u001b[0;34m=\u001b[0m\u001b[0;32mFalse\u001b[0m\u001b[0;34m)\u001b[0m\u001b[0;34m\u001b[0m\u001b[0;34m\u001b[0m\u001b[0m\n\u001b[1;32m      4\u001b[0m \u001b[0mdf\u001b[0m\u001b[0;34m.\u001b[0m\u001b[0mhead\u001b[0m\u001b[0;34m(\u001b[0m\u001b[0;34m)\u001b[0m\u001b[0;34m\u001b[0m\u001b[0;34m\u001b[0m\u001b[0m\n",
            "\u001b[0;32m<ipython-input-23-5ff19587c997>\u001b[0m in \u001b[0;36mextract_features\u001b[0;34m(df)\u001b[0m\n\u001b[1;32m     49\u001b[0m \u001b[0;32mdef\u001b[0m \u001b[0mextract_features\u001b[0m\u001b[0;34m(\u001b[0m\u001b[0mdf\u001b[0m\u001b[0;34m)\u001b[0m\u001b[0;34m:\u001b[0m\u001b[0;34m\u001b[0m\u001b[0;34m\u001b[0m\u001b[0m\n\u001b[1;32m     50\u001b[0m   \u001b[0;31m# Preprocessing each question\u001b[0m\u001b[0;34m\u001b[0m\u001b[0;34m\u001b[0m\u001b[0;34m\u001b[0m\u001b[0m\n\u001b[0;32m---> 51\u001b[0;31m   \u001b[0mdf\u001b[0m\u001b[0;34m[\u001b[0m\u001b[0;34m'question1'\u001b[0m\u001b[0;34m]\u001b[0m \u001b[0;34m=\u001b[0m \u001b[0mdf\u001b[0m\u001b[0;34m[\u001b[0m\u001b[0;34m'question1'\u001b[0m\u001b[0;34m]\u001b[0m\u001b[0;34m.\u001b[0m\u001b[0mfillna\u001b[0m\u001b[0;34m(\u001b[0m\u001b[0;34m\"\"\u001b[0m\u001b[0;34m)\u001b[0m\u001b[0;34m.\u001b[0m\u001b[0mapply\u001b[0m\u001b[0;34m(\u001b[0m\u001b[0mpreprocessing\u001b[0m\u001b[0;34m)\u001b[0m\u001b[0;34m\u001b[0m\u001b[0;34m\u001b[0m\u001b[0m\n\u001b[0m\u001b[1;32m     52\u001b[0m   \u001b[0mdf\u001b[0m\u001b[0;34m[\u001b[0m\u001b[0;34m'question2'\u001b[0m\u001b[0;34m]\u001b[0m \u001b[0;34m=\u001b[0m \u001b[0mdf\u001b[0m\u001b[0;34m[\u001b[0m\u001b[0;34m'question2'\u001b[0m\u001b[0;34m]\u001b[0m\u001b[0;34m.\u001b[0m\u001b[0mfillna\u001b[0m\u001b[0;34m(\u001b[0m\u001b[0;34m\"\"\u001b[0m\u001b[0;34m)\u001b[0m\u001b[0;34m.\u001b[0m\u001b[0mapply\u001b[0m\u001b[0;34m(\u001b[0m\u001b[0mpreprocessing\u001b[0m\u001b[0;34m)\u001b[0m\u001b[0;34m\u001b[0m\u001b[0;34m\u001b[0m\u001b[0m\n\u001b[1;32m     53\u001b[0m \u001b[0;34m\u001b[0m\u001b[0m\n",
            "\u001b[0;32m/usr/local/lib/python3.7/dist-packages/pandas/core/series.py\u001b[0m in \u001b[0;36mapply\u001b[0;34m(self, func, convert_dtype, args, **kwargs)\u001b[0m\n\u001b[1;32m   4355\u001b[0m         \u001b[0mdtype\u001b[0m\u001b[0;34m:\u001b[0m \u001b[0mfloat64\u001b[0m\u001b[0;34m\u001b[0m\u001b[0;34m\u001b[0m\u001b[0m\n\u001b[1;32m   4356\u001b[0m         \"\"\"\n\u001b[0;32m-> 4357\u001b[0;31m         \u001b[0;32mreturn\u001b[0m \u001b[0mSeriesApply\u001b[0m\u001b[0;34m(\u001b[0m\u001b[0mself\u001b[0m\u001b[0;34m,\u001b[0m \u001b[0mfunc\u001b[0m\u001b[0;34m,\u001b[0m \u001b[0mconvert_dtype\u001b[0m\u001b[0;34m,\u001b[0m \u001b[0margs\u001b[0m\u001b[0;34m,\u001b[0m \u001b[0mkwargs\u001b[0m\u001b[0;34m)\u001b[0m\u001b[0;34m.\u001b[0m\u001b[0mapply\u001b[0m\u001b[0;34m(\u001b[0m\u001b[0;34m)\u001b[0m\u001b[0;34m\u001b[0m\u001b[0;34m\u001b[0m\u001b[0m\n\u001b[0m\u001b[1;32m   4358\u001b[0m \u001b[0;34m\u001b[0m\u001b[0m\n\u001b[1;32m   4359\u001b[0m     def _reduce(\n",
            "\u001b[0;32m/usr/local/lib/python3.7/dist-packages/pandas/core/apply.py\u001b[0m in \u001b[0;36mapply\u001b[0;34m(self)\u001b[0m\n\u001b[1;32m   1041\u001b[0m             \u001b[0;32mreturn\u001b[0m \u001b[0mself\u001b[0m\u001b[0;34m.\u001b[0m\u001b[0mapply_str\u001b[0m\u001b[0;34m(\u001b[0m\u001b[0;34m)\u001b[0m\u001b[0;34m\u001b[0m\u001b[0;34m\u001b[0m\u001b[0m\n\u001b[1;32m   1042\u001b[0m \u001b[0;34m\u001b[0m\u001b[0m\n\u001b[0;32m-> 1043\u001b[0;31m         \u001b[0;32mreturn\u001b[0m \u001b[0mself\u001b[0m\u001b[0;34m.\u001b[0m\u001b[0mapply_standard\u001b[0m\u001b[0;34m(\u001b[0m\u001b[0;34m)\u001b[0m\u001b[0;34m\u001b[0m\u001b[0;34m\u001b[0m\u001b[0m\n\u001b[0m\u001b[1;32m   1044\u001b[0m \u001b[0;34m\u001b[0m\u001b[0m\n\u001b[1;32m   1045\u001b[0m     \u001b[0;32mdef\u001b[0m \u001b[0magg\u001b[0m\u001b[0;34m(\u001b[0m\u001b[0mself\u001b[0m\u001b[0;34m)\u001b[0m\u001b[0;34m:\u001b[0m\u001b[0;34m\u001b[0m\u001b[0;34m\u001b[0m\u001b[0m\n",
            "\u001b[0;32m/usr/local/lib/python3.7/dist-packages/pandas/core/apply.py\u001b[0m in \u001b[0;36mapply_standard\u001b[0;34m(self)\u001b[0m\n\u001b[1;32m   1099\u001b[0m                     \u001b[0mvalues\u001b[0m\u001b[0;34m,\u001b[0m\u001b[0;34m\u001b[0m\u001b[0;34m\u001b[0m\u001b[0m\n\u001b[1;32m   1100\u001b[0m                     \u001b[0mf\u001b[0m\u001b[0;34m,\u001b[0m  \u001b[0;31m# type: ignore[arg-type]\u001b[0m\u001b[0;34m\u001b[0m\u001b[0;34m\u001b[0m\u001b[0m\n\u001b[0;32m-> 1101\u001b[0;31m                     \u001b[0mconvert\u001b[0m\u001b[0;34m=\u001b[0m\u001b[0mself\u001b[0m\u001b[0;34m.\u001b[0m\u001b[0mconvert_dtype\u001b[0m\u001b[0;34m,\u001b[0m\u001b[0;34m\u001b[0m\u001b[0;34m\u001b[0m\u001b[0m\n\u001b[0m\u001b[1;32m   1102\u001b[0m                 )\n\u001b[1;32m   1103\u001b[0m \u001b[0;34m\u001b[0m\u001b[0m\n",
            "\u001b[0;32m/usr/local/lib/python3.7/dist-packages/pandas/_libs/lib.pyx\u001b[0m in \u001b[0;36mpandas._libs.lib.map_infer\u001b[0;34m()\u001b[0m\n",
            "\u001b[0;32m<ipython-input-22-eb3074a8fba8>\u001b[0m in \u001b[0;36mpreprocessing\u001b[0;34m(row)\u001b[0m\n\u001b[1;32m     13\u001b[0m   \u001b[0mpp2_1\u001b[0m \u001b[0;34m=\u001b[0m \u001b[0;34m\" \"\u001b[0m\u001b[0;34m.\u001b[0m\u001b[0mjoin\u001b[0m\u001b[0;34m(\u001b[0m\u001b[0mpp2_1\u001b[0m\u001b[0;34m)\u001b[0m    \u001b[0;31m# The above line returns a list. Converting it into a string\u001b[0m\u001b[0;34m\u001b[0m\u001b[0;34m\u001b[0m\u001b[0m\n\u001b[1;32m     14\u001b[0m \u001b[0;34m\u001b[0m\u001b[0m\n\u001b[0;32m---> 15\u001b[0;31m   \u001b[0mpp3_1\u001b[0m \u001b[0;34m=\u001b[0m \u001b[0mpp2_1\u001b[0m\u001b[0;34m.\u001b[0m\u001b[0mreplace\u001b[0m\u001b[0;34m(\u001b[0m\u001b[0;34m\",000,000\"\u001b[0m\u001b[0;34m,\u001b[0m \u001b[0;34m\"m\"\u001b[0m\u001b[0;34m)\u001b[0m\u001b[0;34m.\u001b[0m\u001b[0mreplace\u001b[0m\u001b[0;34m(\u001b[0m\u001b[0;34m\",000\"\u001b[0m\u001b[0;34m,\u001b[0m \u001b[0;34m\"k\"\u001b[0m\u001b[0;34m)\u001b[0m\u001b[0;34m.\u001b[0m\u001b[0mreplace\u001b[0m\u001b[0;34m(\u001b[0m\u001b[0;34m\"′\"\u001b[0m\u001b[0;34m,\u001b[0m \u001b[0;34m\"'\"\u001b[0m\u001b[0;34m)\u001b[0m\u001b[0;34m.\u001b[0m\u001b[0mreplace\u001b[0m\u001b[0;34m(\u001b[0m\u001b[0;34m\"’\"\u001b[0m\u001b[0;34m,\u001b[0m \u001b[0;34m\"'\"\u001b[0m\u001b[0;34m)\u001b[0m                      \u001b[0;34m.\u001b[0m\u001b[0mreplace\u001b[0m\u001b[0;34m(\u001b[0m\u001b[0;34m\"won't\"\u001b[0m\u001b[0;34m,\u001b[0m \u001b[0;34m\"will not\"\u001b[0m\u001b[0;34m)\u001b[0m\u001b[0;34m.\u001b[0m\u001b[0mreplace\u001b[0m\u001b[0;34m(\u001b[0m\u001b[0;34m\"cannot\"\u001b[0m\u001b[0;34m,\u001b[0m \u001b[0;34m\"can not\"\u001b[0m\u001b[0;34m)\u001b[0m\u001b[0;34m.\u001b[0m\u001b[0mreplace\u001b[0m\u001b[0;34m(\u001b[0m\u001b[0;34m\"can't\"\u001b[0m\u001b[0;34m,\u001b[0m \u001b[0;34m\"can not\"\u001b[0m\u001b[0;34m)\u001b[0m                      \u001b[0;34m.\u001b[0m\u001b[0mreplace\u001b[0m\u001b[0;34m(\u001b[0m\u001b[0;34m\"n't\"\u001b[0m\u001b[0;34m,\u001b[0m \u001b[0;34m\" not\"\u001b[0m\u001b[0;34m)\u001b[0m\u001b[0;34m.\u001b[0m\u001b[0mreplace\u001b[0m\u001b[0;34m(\u001b[0m\u001b[0;34m\"what's\"\u001b[0m\u001b[0;34m,\u001b[0m \u001b[0;34m\"what is\"\u001b[0m\u001b[0;34m)\u001b[0m\u001b[0;34m.\u001b[0m\u001b[0mreplace\u001b[0m\u001b[0;34m(\u001b[0m\u001b[0;34m\"it's\"\u001b[0m\u001b[0;34m,\u001b[0m \u001b[0;34m\"it is\"\u001b[0m\u001b[0;34m)\u001b[0m                      \u001b[0;34m.\u001b[0m\u001b[0mreplace\u001b[0m\u001b[0;34m(\u001b[0m\u001b[0;34m\"'ve\"\u001b[0m\u001b[0;34m,\u001b[0m \u001b[0;34m\" have\"\u001b[0m\u001b[0;34m)\u001b[0m\u001b[0;34m.\u001b[0m\u001b[0mreplace\u001b[0m\u001b[0;34m(\u001b[0m\u001b[0;34m\"i'm\"\u001b[0m\u001b[0;34m,\u001b[0m \u001b[0;34m\"i am\"\u001b[0m\u001b[0;34m)\u001b[0m\u001b[0;34m.\u001b[0m\u001b[0mreplace\u001b[0m\u001b[0;34m(\u001b[0m\u001b[0;34m\"'re\"\u001b[0m\u001b[0;34m,\u001b[0m \u001b[0;34m\" are\"\u001b[0m\u001b[0;34m)\u001b[0m                      \u001b[0;34m.\u001b[0m\u001b[0mreplace\u001b[0m\u001b[0;34m(\u001b[0m\u001b[0;34m\"he's\"\u001b[0m\u001b[0;34m,\u001b[0m \u001b[0;34m\"he is\"\u001b[0m\u001b[0;34m)\u001b[0m\u001b[0;34m.\u001b[0m\u001b[0mreplace\u001b[0m\u001b[0;34m(\u001b[0m\u001b[0;34m\"she's\"\u001b[0m\u001b[0;34m,\u001b[0m \u001b[0;34m\"she is\"\u001b[0m\u001b[0;34m)\u001b[0m\u001b[0;34m.\u001b[0m\u001b[0mreplace\u001b[0m\u001b[0;34m(\u001b[0m\u001b[0;34m\"'s\"\u001b[0m\u001b[0;34m,\u001b[0m \u001b[0;34m\" own\"\u001b[0m\u001b[0;34m)\u001b[0m                      \u001b[0;34m.\u001b[0m\u001b[0mreplace\u001b[0m\u001b[0;34m(\u001b[0m\u001b[0;34m\"%\"\u001b[0m\u001b[0;34m,\u001b[0m \u001b[0;34m\" percent \"\u001b[0m\u001b[0;34m)\u001b[0m\u001b[0;34m.\u001b[0m\u001b[0mreplace\u001b[0m\u001b[0;34m(\u001b[0m\u001b[0;34m\"₹\"\u001b[0m\u001b[0;34m,\u001b[0m \u001b[0;34m\" rupee \"\u001b[0m\u001b[0;34m)\u001b[0m\u001b[0;34m.\u001b[0m\u001b[0mreplace\u001b[0m\u001b[0;34m(\u001b[0m\u001b[0;34m\"$\"\u001b[0m\u001b[0;34m,\u001b[0m \u001b[0;34m\" dollar \"\u001b[0m\u001b[0;34m)\u001b[0m                      \u001b[0;34m.\u001b[0m\u001b[0mreplace\u001b[0m\u001b[0;34m(\u001b[0m\u001b[0;34m\"€\"\u001b[0m\u001b[0;34m,\u001b[0m \u001b[0;34m\" euro \"\u001b[0m\u001b[0;34m)\u001b[0m\u001b[0;34m.\u001b[0m\u001b[0mreplace\u001b[0m\u001b[0;34m(\u001b[0m\u001b[0;34m\"'ll\"\u001b[0m\u001b[0;34m,\u001b[0m \u001b[0;34m\" will\"\u001b[0m\u001b[0;34m)\u001b[0m\u001b[0;34m\u001b[0m\u001b[0;34m\u001b[0m\u001b[0m\n\u001b[0m\u001b[1;32m     16\u001b[0m \u001b[0;34m\u001b[0m\u001b[0m\n\u001b[1;32m     17\u001b[0m   \u001b[0;31m# pp4_1 = \"\".join([word for word in pp3_1 if word not in Stop_Words])\u001b[0m\u001b[0;34m\u001b[0m\u001b[0;34m\u001b[0m\u001b[0;34m\u001b[0m\u001b[0m\n",
            "\u001b[0;31mKeyboardInterrupt\u001b[0m: "
          ]
        }
      ],
      "source": [
        "df = pd.read_csv(r'/content/drive/MyDrive/ML Datasets/CaseStudy1 - Quora/train.csv')\n",
        "df = extract_features(df)\n",
        "df.to_csv(index=False)\n",
        "df.head()"
      ]
    },
    {
      "cell_type": "code",
      "execution_count": null,
      "metadata": {
        "colab": {
          "background_save": true
        },
        "id": "hGghd3_Yb4A6"
      },
      "outputs": [],
      "source": [
        "pd.set_option('display.max_columns', None)\n",
        "df.head(3)"
      ]
    },
    {
      "cell_type": "markdown",
      "metadata": {
        "id": "PVWr00DDYt7x"
      },
      "source": [
        "### Analysis of extracted features"
      ]
    },
    {
      "cell_type": "markdown",
      "metadata": {
        "id": "itoiLasLY9Uk"
      },
      "source": [
        "Pair plots of features ['ctc_min', 'cwc_min', 'csc_min, 'token_sort_ratio']"
      ]
    },
    {
      "cell_type": "code",
      "execution_count": null,
      "metadata": {
        "colab": {
          "background_save": true
        },
        "id": "cG03A_4BYrLB"
      },
      "outputs": [],
      "source": [
        "# n=df.shape[0]\n",
        "# sns.pairplot(df[['ctc_min', 'cwc_min', 'csc_min', 'token_sort_ratio', 'is_duplicate']][0:n], hue = 'is_duplicate', vars=['ctc_min', 'cwc_min', 'csc_min', 'token_sort_ratio']])\n",
        "# plt.show()\n",
        "n = df.shape[0]\n",
        "sns.pairplot(df[['ctc_min', 'cwc_min', 'csc_min', 'token_sort_ratio', 'is_duplicate']][0:n], hue='is_duplicate', vars=['ctc_min', 'cwc_min', 'csc_min', 'token_sort_ratio'])\n",
        "plt.show()"
      ]
    },
    {
      "cell_type": "code",
      "execution_count": null,
      "metadata": {
        "colab": {
          "background_save": true
        },
        "id": "wYDunju7brVy"
      },
      "outputs": [],
      "source": [
        "# Distribution of token_sort_ratio\n",
        "plt.figure(figsize=(10,8))\n",
        "plt.subplot(1,2,1)\n",
        "sns.violinplot(x=\"is_duplicate\", y='token_sort_ratio', data=df[0:])\n",
        "\n",
        "plt.subplot(1,2,2)\n",
        "sns.distplot(df[df['is_duplicate'] == 1.0]['token_sort_ratio'][0:] , label = \"1\", color = 'red')\n",
        "sns.distplot(df[df['is_duplicate'] == 0.0]['token_sort_ratio'][0:] , label = \"0\" , color = 'blue' )\n",
        "plt.show()"
      ]
    },
    {
      "cell_type": "code",
      "execution_count": null,
      "metadata": {
        "colab": {
          "background_save": true
        },
        "id": "ZquI2VjnWeRP"
      },
      "outputs": [],
      "source": [
        "df.head()"
      ]
    },
    {
      "cell_type": "code",
      "execution_count": null,
      "metadata": {
        "colab": {
          "background_save": true
        },
        "id": "wkrLwsnWN_ai"
      },
      "outputs": [],
      "source": [
        "from sklearn.preprocessing import MinMaxScaler\n",
        "\n",
        "df_subsampled = df[:5000]\n",
        "X = MinMaxScaler().fit_transform(df_subsampled[['cwc_min', 'cwc_max', 'csc_min', 'csc_max' , 'ctc_min' , 'ctc_max' , 'last_word_eq', 'first_word_eq' , 'abs_len_diff' , 'mean_len' , 'token_set_ratio' , 'token_sort_ratio' ,  'fuzz_ratio' , 'fuzz_partial_ratio' , 'longest_substr_ratio']])\n",
        "Y = df_subsampled['is_duplicate']"
      ]
    },
    {
      "cell_type": "code",
      "execution_count": null,
      "metadata": {
        "colab": {
          "background_save": true
        },
        "id": "qlhnTK8JQ4iu"
      },
      "outputs": [],
      "source": [
        "from sklearn.manifold import TSNE\n",
        "tsne2d = TSNE(n_components=2,  perplexity=30.0, random_state=101, verbose=2).fit_transform(X)"
      ]
    },
    {
      "cell_type": "code",
      "execution_count": null,
      "metadata": {
        "colab": {
          "background_save": true
        },
        "id": "PQbEZCkISB3f"
      },
      "outputs": [],
      "source": [
        "df1 = pd.DataFrame({'X': tsne2d[:,0], 'Y':tsne2d[:,1], \"label\": Y})\n",
        "sns.lmplot(data=df1, x=\"X\", y=\"Y\", hue=\"label\", palette=\"Set1\", fit_reg=False, size=8, markers=['s','o'])\n",
        "plt.title(\"perplexity : {} and max_iter : {}\".format(30, 1000))\n",
        "plt.show()"
      ]
    },
    {
      "cell_type": "code",
      "execution_count": null,
      "metadata": {
        "colab": {
          "background_save": true
        },
        "id": "Q-YcYDQKedse"
      },
      "outputs": [],
      "source": [
        "from sklearn.manifold import TSNE\n",
        "tsne3d = TSNE(\n",
        "    n_components=3,\n",
        "    init='random', # pca\n",
        "    random_state=101,\n",
        "    method='barnes_hut',\n",
        "    n_iter=1000,\n",
        "    verbose=2,\n",
        "    angle=0.5\n",
        ").fit_transform(X)"
      ]
    },
    {
      "cell_type": "code",
      "execution_count": null,
      "metadata": {
        "colab": {
          "background_save": true
        },
        "id": "FfmK_tu6ee25"
      },
      "outputs": [],
      "source": [
        "trace1 = go.Scatter3d(\n",
        "    x=tsne3d[:,0],\n",
        "    y=tsne3d[:,1],\n",
        "    z=tsne3d[:,2],\n",
        "    mode='markers',\n",
        "    marker=dict(\n",
        "        sizemode='diameter',\n",
        "        color = Y,\n",
        "        colorscale = 'Portland',\n",
        "        colorbar = dict(title = 'duplicate'),\n",
        "        line=dict(color='rgb(255, 255, 255)'),\n",
        "        opacity=0.75\n",
        "    )\n",
        ")\n",
        "\n",
        "data=[trace1]\n",
        "layout=dict(height=800, width=800, title='3d embedding with engineered features')\n",
        "fig=dict(data=data, layout=layout)\n",
        "py.iplot(fig, filename='3DBubble')\n",
        "plt.show()"
      ]
    },
    {
      "cell_type": "markdown",
      "metadata": {
        "id": "Sjw4f4NqIqLE"
      },
      "source": [
        "## Featurizing text data with tfidf weighted word vectors"
      ]
    },
    {
      "cell_type": "code",
      "execution_count": null,
      "metadata": {
        "colab": {
          "background_save": true
        },
        "id": "ItZlV59oI_GP"
      },
      "outputs": [],
      "source": [
        "!pip install spacy"
      ]
    },
    {
      "cell_type": "code",
      "execution_count": null,
      "metadata": {
        "colab": {
          "background_save": true
        },
        "id": "xz2QFj6vJXNq"
      },
      "outputs": [],
      "source": [
        "df['question1'] = df['question1'].apply(lambda x : str(x))\n",
        "df['question2'] = df['question2'].apply(lambda x : str(x))\n",
        "df.head()"
      ]
    },
    {
      "cell_type": "code",
      "execution_count": null,
      "metadata": {
        "colab": {
          "background_save": true
        },
        "id": "MQ6qyP7vJyqZ"
      },
      "outputs": [],
      "source": [
        "from sklearn.feature_extraction.text import TfidfVectorizer\n",
        "questions = list(df['question1'])+list(df['question2'])    # Merging texts\n",
        "\n",
        "tfidf = TfidfVectorizer()    # initialize tfidf vectorizer\n",
        "tfidf.fit_transform(questions)\n",
        "\n",
        "# dict key:word and value:tf-idf score\n",
        "word2tfidf = dict(zip(tfidf.get_feature_names_out(), tfidf.idf_))\n"
      ]
    },
    {
      "cell_type": "code",
      "execution_count": null,
      "metadata": {
        "colab": {
          "background_save": true
        },
        "id": "wpF1KDQZW01p"
      },
      "outputs": [],
      "source": [
        "len(word2tfidf.keys())"
      ]
    },
    {
      "cell_type": "markdown",
      "metadata": {
        "id": "EiPAM9U9XlhA"
      },
      "source": [
        "- After we find TF-IDF scores, we convert each question to a weighted average of word2vec vectors by these scores.\n",
        "- here we use a pre-trained GLOVE model which comes free with \"Spacy\".  https://spacy.io/usage/vectors-similarity\n",
        "- It is trained on Wikipedia and therefore, it is stronger in terms of word semantics. "
      ]
    },
    {
      "cell_type": "code",
      "execution_count": null,
      "metadata": {
        "colab": {
          "background_save": true
        },
        "id": "yQFL8d8sXdPd"
      },
      "outputs": [],
      "source": [
        "!python -m spacy download en_core_web_lg\n",
        "!python -m spacy download en\n",
        "import spacy.cli\n",
        "\n",
        "spacy.cli.download(\"en_core_web_lg\")"
      ]
    },
    {
      "cell_type": "code",
      "execution_count": null,
      "metadata": {
        "colab": {
          "background_save": true
        },
        "id": "0BKV1anbaiDA"
      },
      "outputs": [],
      "source": [
        "import spacy\n",
        "from tqdm import tqdm\n",
        "nlp = spacy.load('en_core_web_lg')\n",
        "vecs1=[]\n",
        "\n",
        "for qu1 in tqdm(list(df['question1'])):\n",
        "  doc1 = nlp(qu1)\n",
        "  mean_vec1 = np.zeros([len(doc1), len(doc1.vector)])\n",
        "  for word1 in doc1:\n",
        "    vec1 = word1.vector\n",
        "    try:\n",
        "      idf = word2tfidf[str(word1)]\n",
        "    except:\n",
        "      idf = 0\n",
        "\n",
        "    mean_vec1 += vec1*idf\n",
        "  mean_vec1 = mean_vec1.mean(axis=0)\n",
        "  vecs1.append(mean_vec1)\n",
        "df['q1_feats_m'] = list(vecs1)\n",
        "df.head()"
      ]
    },
    {
      "cell_type": "code",
      "execution_count": null,
      "metadata": {
        "colab": {
          "background_save": true
        },
        "id": "MEPLomdCBJHm"
      },
      "outputs": [],
      "source": [
        "df.head()"
      ]
    },
    {
      "cell_type": "code",
      "execution_count": null,
      "metadata": {
        "colab": {
          "background_save": true
        },
        "id": "sNQRbsRF_x7n"
      },
      "outputs": [],
      "source": [
        "vecs2 = []\n",
        "for qu2 in tqdm(list(df['question2'])):\n",
        "    doc2 = nlp(qu2) \n",
        "    mean_vec2 = np.zeros([len(doc1), len(doc2.vector)])\n",
        "    for word2 in doc2:\n",
        "        # word2vec\n",
        "        vec2 = word2.vector\n",
        "        # fetch df score\n",
        "        try:\n",
        "            idf = word2tfidf[str(word2)]\n",
        "        except:\n",
        "            #print word\n",
        "            idf = 0\n",
        "        # compute final vec\n",
        "        mean_vec2 += vec2 * idf\n",
        "    mean_vec2 = mean_vec2.mean(axis=0)\n",
        "    vecs2.append(mean_vec2)\n",
        "df['q2_feats_m'] = list(vecs2)"
      ]
    },
    {
      "cell_type": "code",
      "execution_count": null,
      "metadata": {
        "colab": {
          "background_save": true
        },
        "id": "BZx-NOhxl9Qk"
      },
      "outputs": [],
      "source": [
        "from pathlib import Path  \n",
        "filepath = Path('/content/drive/MyDrive/ML Datasets/CaseStudy1 - Quora/updated.csv')  \n",
        "filepath.parent.mkdir(parents=True, exist_ok=True)  \n",
        "df.to_csv(filepath, index=False)"
      ]
    },
    {
      "cell_type": "code",
      "execution_count": null,
      "metadata": {
        "colab": {
          "background_save": true
        },
        "id": "FE8x-n0np2Hc"
      },
      "outputs": [],
      "source": [
        "df.head()"
      ]
    }
  ],
  "metadata": {
    "colab": {
      "collapsed_sections": [],
      "name": "Case Study 1_1 (Quora).ipynb",
      "provenance": [],
      "mount_file_id": "1MsDficMBch4NwLGT7ODfQtDwqTABXiP0",
      "authorship_tag": "ABX9TyNCMOsUYmkTig5sQVQmyW4/",
      "include_colab_link": true
    },
    "kernelspec": {
      "display_name": "Python 3",
      "name": "python3"
    },
    "language_info": {
      "name": "python"
    }
  },
  "nbformat": 4,
  "nbformat_minor": 0
}